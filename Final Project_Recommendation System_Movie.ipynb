{
 "cells": [
  {
   "cell_type": "markdown",
   "metadata": {},
   "source": [
    "## 1. Import Library"
   ]
  },
  {
   "cell_type": "code",
   "execution_count": 71,
   "metadata": {},
   "outputs": [],
   "source": [
    "import pandas as pd \n",
    "import numpy as np\n",
    "import seaborn as sns\n",
    "import matplotlib.pyplot as plt\n",
    "import os\n",
    "\n",
    "from sklearn.model_selection import train_test_split\n",
    "from sklearn.feature_extraction.text import TfidfVectorizer\n",
    "from sklearn.metrics.pairwise import cosine_similarity\n",
    "\n",
    "import tensorflow as tf\n",
    "from tensorflow import keras\n",
    "from tensorflow.keras import layers, Model, regularizers"
   ]
  },
  {
   "cell_type": "markdown",
   "metadata": {},
   "source": [
    "## 2. Data Understanding"
   ]
  },
  {
   "cell_type": "code",
   "execution_count": 2,
   "metadata": {},
   "outputs": [],
   "source": [
    "directory = \"./data\"\n",
    "\n",
    "data = {}\n",
    "\n",
    "for file in os.listdir(directory):\n",
    "    dataframe = os.path.splitext(file)[0]\n",
    "    data[dataframe] = pd.read_csv(os.path.join(directory, file), delimiter=\",\") "
   ]
  },
  {
   "cell_type": "markdown",
   "metadata": {},
   "source": [
    "### 2.1 Gathering Data"
   ]
  },
  {
   "cell_type": "code",
   "execution_count": 3,
   "metadata": {},
   "outputs": [
    {
     "data": {
      "text/html": [
       "<div>\n",
       "<style scoped>\n",
       "    .dataframe tbody tr th:only-of-type {\n",
       "        vertical-align: middle;\n",
       "    }\n",
       "\n",
       "    .dataframe tbody tr th {\n",
       "        vertical-align: top;\n",
       "    }\n",
       "\n",
       "    .dataframe thead th {\n",
       "        text-align: right;\n",
       "    }\n",
       "</style>\n",
       "<table border=\"1\" class=\"dataframe\">\n",
       "  <thead>\n",
       "    <tr style=\"text-align: right;\">\n",
       "      <th></th>\n",
       "      <th>movieId</th>\n",
       "      <th>title</th>\n",
       "      <th>genres</th>\n",
       "    </tr>\n",
       "  </thead>\n",
       "  <tbody>\n",
       "    <tr>\n",
       "      <th>0</th>\n",
       "      <td>1</td>\n",
       "      <td>Toy Story (1995)</td>\n",
       "      <td>Adventure|Animation|Children|Comedy|Fantasy</td>\n",
       "    </tr>\n",
       "    <tr>\n",
       "      <th>1</th>\n",
       "      <td>2</td>\n",
       "      <td>Jumanji (1995)</td>\n",
       "      <td>Adventure|Children|Fantasy</td>\n",
       "    </tr>\n",
       "    <tr>\n",
       "      <th>2</th>\n",
       "      <td>3</td>\n",
       "      <td>Grumpier Old Men (1995)</td>\n",
       "      <td>Comedy|Romance</td>\n",
       "    </tr>\n",
       "    <tr>\n",
       "      <th>3</th>\n",
       "      <td>4</td>\n",
       "      <td>Waiting to Exhale (1995)</td>\n",
       "      <td>Comedy|Drama|Romance</td>\n",
       "    </tr>\n",
       "    <tr>\n",
       "      <th>4</th>\n",
       "      <td>5</td>\n",
       "      <td>Father of the Bride Part II (1995)</td>\n",
       "      <td>Comedy</td>\n",
       "    </tr>\n",
       "    <tr>\n",
       "      <th>...</th>\n",
       "      <td>...</td>\n",
       "      <td>...</td>\n",
       "      <td>...</td>\n",
       "    </tr>\n",
       "    <tr>\n",
       "      <th>10324</th>\n",
       "      <td>146684</td>\n",
       "      <td>Cosmic Scrat-tastrophe (2015)</td>\n",
       "      <td>Animation|Children|Comedy</td>\n",
       "    </tr>\n",
       "    <tr>\n",
       "      <th>10325</th>\n",
       "      <td>146878</td>\n",
       "      <td>Le Grand Restaurant (1966)</td>\n",
       "      <td>Comedy</td>\n",
       "    </tr>\n",
       "    <tr>\n",
       "      <th>10326</th>\n",
       "      <td>148238</td>\n",
       "      <td>A Very Murray Christmas (2015)</td>\n",
       "      <td>Comedy</td>\n",
       "    </tr>\n",
       "    <tr>\n",
       "      <th>10327</th>\n",
       "      <td>148626</td>\n",
       "      <td>The Big Short (2015)</td>\n",
       "      <td>Drama</td>\n",
       "    </tr>\n",
       "    <tr>\n",
       "      <th>10328</th>\n",
       "      <td>149532</td>\n",
       "      <td>Marco Polo: One Hundred Eyes (2015)</td>\n",
       "      <td>(no genres listed)</td>\n",
       "    </tr>\n",
       "  </tbody>\n",
       "</table>\n",
       "<p>10329 rows × 3 columns</p>\n",
       "</div>"
      ],
      "text/plain": [
       "       movieId                                title  \\\n",
       "0            1                     Toy Story (1995)   \n",
       "1            2                       Jumanji (1995)   \n",
       "2            3              Grumpier Old Men (1995)   \n",
       "3            4             Waiting to Exhale (1995)   \n",
       "4            5   Father of the Bride Part II (1995)   \n",
       "...        ...                                  ...   \n",
       "10324   146684        Cosmic Scrat-tastrophe (2015)   \n",
       "10325   146878           Le Grand Restaurant (1966)   \n",
       "10326   148238       A Very Murray Christmas (2015)   \n",
       "10327   148626                 The Big Short (2015)   \n",
       "10328   149532  Marco Polo: One Hundred Eyes (2015)   \n",
       "\n",
       "                                            genres  \n",
       "0      Adventure|Animation|Children|Comedy|Fantasy  \n",
       "1                       Adventure|Children|Fantasy  \n",
       "2                                   Comedy|Romance  \n",
       "3                             Comedy|Drama|Romance  \n",
       "4                                           Comedy  \n",
       "...                                            ...  \n",
       "10324                    Animation|Children|Comedy  \n",
       "10325                                       Comedy  \n",
       "10326                                       Comedy  \n",
       "10327                                        Drama  \n",
       "10328                           (no genres listed)  \n",
       "\n",
       "[10329 rows x 3 columns]"
      ]
     },
     "execution_count": 3,
     "metadata": {},
     "output_type": "execute_result"
    }
   ],
   "source": [
    "df_movies = data['movies']\n",
    "df_movies"
   ]
  },
  {
   "cell_type": "code",
   "execution_count": 4,
   "metadata": {},
   "outputs": [
    {
     "data": {
      "text/html": [
       "<div>\n",
       "<style scoped>\n",
       "    .dataframe tbody tr th:only-of-type {\n",
       "        vertical-align: middle;\n",
       "    }\n",
       "\n",
       "    .dataframe tbody tr th {\n",
       "        vertical-align: top;\n",
       "    }\n",
       "\n",
       "    .dataframe thead th {\n",
       "        text-align: right;\n",
       "    }\n",
       "</style>\n",
       "<table border=\"1\" class=\"dataframe\">\n",
       "  <thead>\n",
       "    <tr style=\"text-align: right;\">\n",
       "      <th></th>\n",
       "      <th>userId</th>\n",
       "      <th>movieId</th>\n",
       "      <th>rating</th>\n",
       "      <th>timestamp</th>\n",
       "    </tr>\n",
       "  </thead>\n",
       "  <tbody>\n",
       "    <tr>\n",
       "      <th>0</th>\n",
       "      <td>1</td>\n",
       "      <td>16</td>\n",
       "      <td>4.0</td>\n",
       "      <td>1217897793</td>\n",
       "    </tr>\n",
       "    <tr>\n",
       "      <th>1</th>\n",
       "      <td>1</td>\n",
       "      <td>24</td>\n",
       "      <td>1.5</td>\n",
       "      <td>1217895807</td>\n",
       "    </tr>\n",
       "    <tr>\n",
       "      <th>2</th>\n",
       "      <td>1</td>\n",
       "      <td>32</td>\n",
       "      <td>4.0</td>\n",
       "      <td>1217896246</td>\n",
       "    </tr>\n",
       "    <tr>\n",
       "      <th>3</th>\n",
       "      <td>1</td>\n",
       "      <td>47</td>\n",
       "      <td>4.0</td>\n",
       "      <td>1217896556</td>\n",
       "    </tr>\n",
       "    <tr>\n",
       "      <th>4</th>\n",
       "      <td>1</td>\n",
       "      <td>50</td>\n",
       "      <td>4.0</td>\n",
       "      <td>1217896523</td>\n",
       "    </tr>\n",
       "    <tr>\n",
       "      <th>...</th>\n",
       "      <td>...</td>\n",
       "      <td>...</td>\n",
       "      <td>...</td>\n",
       "      <td>...</td>\n",
       "    </tr>\n",
       "    <tr>\n",
       "      <th>105334</th>\n",
       "      <td>668</td>\n",
       "      <td>142488</td>\n",
       "      <td>4.0</td>\n",
       "      <td>1451535844</td>\n",
       "    </tr>\n",
       "    <tr>\n",
       "      <th>105335</th>\n",
       "      <td>668</td>\n",
       "      <td>142507</td>\n",
       "      <td>3.5</td>\n",
       "      <td>1451535889</td>\n",
       "    </tr>\n",
       "    <tr>\n",
       "      <th>105336</th>\n",
       "      <td>668</td>\n",
       "      <td>143385</td>\n",
       "      <td>4.0</td>\n",
       "      <td>1446388585</td>\n",
       "    </tr>\n",
       "    <tr>\n",
       "      <th>105337</th>\n",
       "      <td>668</td>\n",
       "      <td>144976</td>\n",
       "      <td>2.5</td>\n",
       "      <td>1448656898</td>\n",
       "    </tr>\n",
       "    <tr>\n",
       "      <th>105338</th>\n",
       "      <td>668</td>\n",
       "      <td>148626</td>\n",
       "      <td>4.5</td>\n",
       "      <td>1451148148</td>\n",
       "    </tr>\n",
       "  </tbody>\n",
       "</table>\n",
       "<p>105339 rows × 4 columns</p>\n",
       "</div>"
      ],
      "text/plain": [
       "        userId  movieId  rating   timestamp\n",
       "0            1       16     4.0  1217897793\n",
       "1            1       24     1.5  1217895807\n",
       "2            1       32     4.0  1217896246\n",
       "3            1       47     4.0  1217896556\n",
       "4            1       50     4.0  1217896523\n",
       "...        ...      ...     ...         ...\n",
       "105334     668   142488     4.0  1451535844\n",
       "105335     668   142507     3.5  1451535889\n",
       "105336     668   143385     4.0  1446388585\n",
       "105337     668   144976     2.5  1448656898\n",
       "105338     668   148626     4.5  1451148148\n",
       "\n",
       "[105339 rows x 4 columns]"
      ]
     },
     "execution_count": 4,
     "metadata": {},
     "output_type": "execute_result"
    }
   ],
   "source": [
    "df_ratings = data['ratings']\n",
    "df_ratings"
   ]
  },
  {
   "cell_type": "markdown",
   "metadata": {},
   "source": [
    "### 2.2 Check the dimensions of the data"
   ]
  },
  {
   "cell_type": "code",
   "execution_count": 5,
   "metadata": {},
   "outputs": [
    {
     "data": {
      "text/plain": [
       "(10329, 3)"
      ]
     },
     "execution_count": 5,
     "metadata": {},
     "output_type": "execute_result"
    }
   ],
   "source": [
    "df_movies.shape"
   ]
  },
  {
   "cell_type": "code",
   "execution_count": 6,
   "metadata": {},
   "outputs": [
    {
     "data": {
      "text/plain": [
       "(105339, 4)"
      ]
     },
     "execution_count": 6,
     "metadata": {},
     "output_type": "execute_result"
    }
   ],
   "source": [
    "df_ratings.shape"
   ]
  },
  {
   "cell_type": "markdown",
   "metadata": {},
   "source": [
    "## 3. Univariate Exploratory Data Analysis"
   ]
  },
  {
   "cell_type": "markdown",
   "metadata": {},
   "source": [
    "#### Movies Dataset\n",
    "\n",
    "Attribute  | Keterangan\n",
    "------------- | -------------\n",
    "movieId | merepresentasikan Id unik untuk setiap film\n",
    "title | merepresentasikan judul untuk setiap film\n",
    "genres | merepresentasikan genre untuk setiap film\n",
    "\n",
    "#### Ratings Dataset\n",
    "\n",
    "Attribute  | Keterangan\n",
    "------------- | -------------\n",
    "userId | merepresentasikan Id unik untuk setiap penonton\n",
    "movieId | merepresentasikan Id unik untuk setiap film     \n",
    "rating | merepresentasikan penilaian yang diberikan oleh penonton\n",
    "timestamp | merepresentasikan waktu ketika penilaian diberikan"
   ]
  },
  {
   "cell_type": "markdown",
   "metadata": {},
   "source": [
    "### 3.1 Mengecek tipe data pada setiap atribut"
   ]
  },
  {
   "cell_type": "code",
   "execution_count": 7,
   "metadata": {},
   "outputs": [
    {
     "name": "stdout",
     "output_type": "stream",
     "text": [
      "<class 'pandas.core.frame.DataFrame'>\n",
      "RangeIndex: 10329 entries, 0 to 10328\n",
      "Data columns (total 3 columns):\n",
      " #   Column   Non-Null Count  Dtype \n",
      "---  ------   --------------  ----- \n",
      " 0   movieId  10329 non-null  int64 \n",
      " 1   title    10329 non-null  object\n",
      " 2   genres   10329 non-null  object\n",
      "dtypes: int64(1), object(2)\n",
      "memory usage: 242.2+ KB\n"
     ]
    }
   ],
   "source": [
    "df_movies.info()"
   ]
  },
  {
   "cell_type": "code",
   "execution_count": 8,
   "metadata": {},
   "outputs": [
    {
     "name": "stdout",
     "output_type": "stream",
     "text": [
      "<class 'pandas.core.frame.DataFrame'>\n",
      "RangeIndex: 105339 entries, 0 to 105338\n",
      "Data columns (total 4 columns):\n",
      " #   Column     Non-Null Count   Dtype  \n",
      "---  ------     --------------   -----  \n",
      " 0   userId     105339 non-null  int64  \n",
      " 1   movieId    105339 non-null  int64  \n",
      " 2   rating     105339 non-null  float64\n",
      " 3   timestamp  105339 non-null  int64  \n",
      "dtypes: float64(1), int64(3)\n",
      "memory usage: 3.2 MB\n"
     ]
    }
   ],
   "source": [
    "df_ratings.info()"
   ]
  },
  {
   "cell_type": "markdown",
   "metadata": {},
   "source": [
    "### 3.2 Mengecek deskripsi data pada dataframe"
   ]
  },
  {
   "cell_type": "code",
   "execution_count": 9,
   "metadata": {},
   "outputs": [
    {
     "data": {
      "text/html": [
       "<div>\n",
       "<style scoped>\n",
       "    .dataframe tbody tr th:only-of-type {\n",
       "        vertical-align: middle;\n",
       "    }\n",
       "\n",
       "    .dataframe tbody tr th {\n",
       "        vertical-align: top;\n",
       "    }\n",
       "\n",
       "    .dataframe thead th {\n",
       "        text-align: right;\n",
       "    }\n",
       "</style>\n",
       "<table border=\"1\" class=\"dataframe\">\n",
       "  <thead>\n",
       "    <tr style=\"text-align: right;\">\n",
       "      <th></th>\n",
       "      <th>title</th>\n",
       "      <th>genres</th>\n",
       "    </tr>\n",
       "  </thead>\n",
       "  <tbody>\n",
       "    <tr>\n",
       "      <th>count</th>\n",
       "      <td>10329</td>\n",
       "      <td>10329</td>\n",
       "    </tr>\n",
       "    <tr>\n",
       "      <th>unique</th>\n",
       "      <td>10327</td>\n",
       "      <td>938</td>\n",
       "    </tr>\n",
       "    <tr>\n",
       "      <th>top</th>\n",
       "      <td>War of the Worlds (2005)</td>\n",
       "      <td>Drama</td>\n",
       "    </tr>\n",
       "    <tr>\n",
       "      <th>freq</th>\n",
       "      <td>2</td>\n",
       "      <td>1385</td>\n",
       "    </tr>\n",
       "  </tbody>\n",
       "</table>\n",
       "</div>"
      ],
      "text/plain": [
       "                           title genres\n",
       "count                      10329  10329\n",
       "unique                     10327    938\n",
       "top     War of the Worlds (2005)  Drama\n",
       "freq                           2   1385"
      ]
     },
     "execution_count": 9,
     "metadata": {},
     "output_type": "execute_result"
    }
   ],
   "source": [
    "df_movies.describe(include='object')"
   ]
  },
  {
   "cell_type": "code",
   "execution_count": 10,
   "metadata": {},
   "outputs": [
    {
     "data": {
      "text/html": [
       "<div>\n",
       "<style scoped>\n",
       "    .dataframe tbody tr th:only-of-type {\n",
       "        vertical-align: middle;\n",
       "    }\n",
       "\n",
       "    .dataframe tbody tr th {\n",
       "        vertical-align: top;\n",
       "    }\n",
       "\n",
       "    .dataframe thead th {\n",
       "        text-align: right;\n",
       "    }\n",
       "</style>\n",
       "<table border=\"1\" class=\"dataframe\">\n",
       "  <thead>\n",
       "    <tr style=\"text-align: right;\">\n",
       "      <th></th>\n",
       "      <th>userId</th>\n",
       "      <th>movieId</th>\n",
       "      <th>rating</th>\n",
       "      <th>timestamp</th>\n",
       "    </tr>\n",
       "  </thead>\n",
       "  <tbody>\n",
       "    <tr>\n",
       "      <th>count</th>\n",
       "      <td>105339.000000</td>\n",
       "      <td>105339.000000</td>\n",
       "      <td>105339.000000</td>\n",
       "      <td>1.053390e+05</td>\n",
       "    </tr>\n",
       "    <tr>\n",
       "      <th>mean</th>\n",
       "      <td>364.924539</td>\n",
       "      <td>13381.312477</td>\n",
       "      <td>3.516850</td>\n",
       "      <td>1.130424e+09</td>\n",
       "    </tr>\n",
       "    <tr>\n",
       "      <th>std</th>\n",
       "      <td>197.486905</td>\n",
       "      <td>26170.456869</td>\n",
       "      <td>1.044872</td>\n",
       "      <td>1.802660e+08</td>\n",
       "    </tr>\n",
       "    <tr>\n",
       "      <th>min</th>\n",
       "      <td>1.000000</td>\n",
       "      <td>1.000000</td>\n",
       "      <td>0.500000</td>\n",
       "      <td>8.285650e+08</td>\n",
       "    </tr>\n",
       "    <tr>\n",
       "      <th>25%</th>\n",
       "      <td>192.000000</td>\n",
       "      <td>1073.000000</td>\n",
       "      <td>3.000000</td>\n",
       "      <td>9.711008e+08</td>\n",
       "    </tr>\n",
       "    <tr>\n",
       "      <th>50%</th>\n",
       "      <td>383.000000</td>\n",
       "      <td>2497.000000</td>\n",
       "      <td>3.500000</td>\n",
       "      <td>1.115154e+09</td>\n",
       "    </tr>\n",
       "    <tr>\n",
       "      <th>75%</th>\n",
       "      <td>557.000000</td>\n",
       "      <td>5991.000000</td>\n",
       "      <td>4.000000</td>\n",
       "      <td>1.275496e+09</td>\n",
       "    </tr>\n",
       "    <tr>\n",
       "      <th>max</th>\n",
       "      <td>668.000000</td>\n",
       "      <td>149532.000000</td>\n",
       "      <td>5.000000</td>\n",
       "      <td>1.452405e+09</td>\n",
       "    </tr>\n",
       "  </tbody>\n",
       "</table>\n",
       "</div>"
      ],
      "text/plain": [
       "              userId        movieId         rating     timestamp\n",
       "count  105339.000000  105339.000000  105339.000000  1.053390e+05\n",
       "mean      364.924539   13381.312477       3.516850  1.130424e+09\n",
       "std       197.486905   26170.456869       1.044872  1.802660e+08\n",
       "min         1.000000       1.000000       0.500000  8.285650e+08\n",
       "25%       192.000000    1073.000000       3.000000  9.711008e+08\n",
       "50%       383.000000    2497.000000       3.500000  1.115154e+09\n",
       "75%       557.000000    5991.000000       4.000000  1.275496e+09\n",
       "max       668.000000  149532.000000       5.000000  1.452405e+09"
      ]
     },
     "execution_count": 10,
     "metadata": {},
     "output_type": "execute_result"
    }
   ],
   "source": [
    "df_ratings.describe()"
   ]
  },
  {
   "cell_type": "markdown",
   "metadata": {},
   "source": [
    "### 3.3 Mengecek jumlah baris data dari setiap nilai unik"
   ]
  },
  {
   "cell_type": "code",
   "execution_count": 86,
   "metadata": {},
   "outputs": [
    {
     "name": "stdout",
     "output_type": "stream",
     "text": [
      "Jumlah Film:  10327\n",
      "Jumlah Penonton:  668\n"
     ]
    }
   ],
   "source": [
    "print('Jumlah Film: ', len(df_movies.movieId.value_counts()))\n",
    "print('Jumlah Penonton: ', len(df_ratings.userId.value_counts()))"
   ]
  },
  {
   "cell_type": "code",
   "execution_count": 12,
   "metadata": {},
   "outputs": [
    {
     "data": {
      "text/plain": [
       "genres\n",
       "Drama                                        1385\n",
       "Comedy                                        826\n",
       "Comedy|Drama                                  465\n",
       "Drama|Romance                                 421\n",
       "Comedy|Romance                                363\n",
       "                                             ... \n",
       "Animation|Children|Comedy|Musical|Western       1\n",
       "Action|Adventure|Children|Comedy|Mystery        1\n",
       "Action|Comedy|Crime|Drama|Horror|Thriller       1\n",
       "Adventure|Drama|Romance|Thriller|War            1\n",
       "Action|Fantasy|Mystery                          1\n",
       "Name: count, Length: 938, dtype: int64"
      ]
     },
     "execution_count": 12,
     "metadata": {},
     "output_type": "execute_result"
    }
   ],
   "source": [
    "df_movies['genres'].value_counts()"
   ]
  },
  {
   "cell_type": "code",
   "execution_count": 13,
   "metadata": {},
   "outputs": [
    {
     "data": {
      "text/plain": [
       "rating\n",
       "5.0    14856\n",
       "4.5     8187\n",
       "4.0    28880\n",
       "3.5    12237\n",
       "3.0    21729\n",
       "2.5     5484\n",
       "2.0     7943\n",
       "1.5     1567\n",
       "1.0     3258\n",
       "0.5     1198\n",
       "Name: count, dtype: int64"
      ]
     },
     "execution_count": 13,
     "metadata": {},
     "output_type": "execute_result"
    }
   ],
   "source": [
    "df_ratings['rating'].value_counts().sort_index(ascending=False)"
   ]
  },
  {
   "cell_type": "code",
   "execution_count": 14,
   "metadata": {},
   "outputs": [
    {
     "data": {
      "text/html": [
       "<div>\n",
       "<style scoped>\n",
       "    .dataframe tbody tr th:only-of-type {\n",
       "        vertical-align: middle;\n",
       "    }\n",
       "\n",
       "    .dataframe tbody tr th {\n",
       "        vertical-align: top;\n",
       "    }\n",
       "\n",
       "    .dataframe thead th {\n",
       "        text-align: right;\n",
       "    }\n",
       "</style>\n",
       "<table border=\"1\" class=\"dataframe\">\n",
       "  <thead>\n",
       "    <tr style=\"text-align: right;\">\n",
       "      <th></th>\n",
       "      <th>title</th>\n",
       "      <th>rating</th>\n",
       "      <th>num_users</th>\n",
       "    </tr>\n",
       "  </thead>\n",
       "  <tbody>\n",
       "    <tr>\n",
       "      <th>279</th>\n",
       "      <td>Shawshank Redemption, The (1994)</td>\n",
       "      <td>1372.0</td>\n",
       "      <td>308</td>\n",
       "    </tr>\n",
       "    <tr>\n",
       "      <th>260</th>\n",
       "      <td>Pulp Fiction (1994)</td>\n",
       "      <td>1352.0</td>\n",
       "      <td>325</td>\n",
       "    </tr>\n",
       "    <tr>\n",
       "      <th>316</th>\n",
       "      <td>Forrest Gump (1994)</td>\n",
       "      <td>1287.0</td>\n",
       "      <td>311</td>\n",
       "    </tr>\n",
       "    <tr>\n",
       "      <th>525</th>\n",
       "      <td>Silence of the Lambs, The (1991)</td>\n",
       "      <td>1216.5</td>\n",
       "      <td>290</td>\n",
       "    </tr>\n",
       "    <tr>\n",
       "      <th>230</th>\n",
       "      <td>Star Wars: Episode IV - A New Hope (1977)</td>\n",
       "      <td>1143.5</td>\n",
       "      <td>273</td>\n",
       "    </tr>\n",
       "    <tr>\n",
       "      <th>2056</th>\n",
       "      <td>Matrix, The (1999)</td>\n",
       "      <td>1113.0</td>\n",
       "      <td>261</td>\n",
       "    </tr>\n",
       "    <tr>\n",
       "      <th>426</th>\n",
       "      <td>Jurassic Park (1993)</td>\n",
       "      <td>1076.0</td>\n",
       "      <td>294</td>\n",
       "    </tr>\n",
       "    <tr>\n",
       "      <th>471</th>\n",
       "      <td>Schindler's List (1993)</td>\n",
       "      <td>1065.5</td>\n",
       "      <td>248</td>\n",
       "    </tr>\n",
       "    <tr>\n",
       "      <th>98</th>\n",
       "      <td>Braveheart (1995)</td>\n",
       "      <td>1019.0</td>\n",
       "      <td>248</td>\n",
       "    </tr>\n",
       "    <tr>\n",
       "      <th>522</th>\n",
       "      <td>Terminator 2: Judgment Day (1991)</td>\n",
       "      <td>1002.0</td>\n",
       "      <td>253</td>\n",
       "    </tr>\n",
       "  </tbody>\n",
       "</table>\n",
       "</div>"
      ],
      "text/plain": [
       "                                          title  rating  num_users\n",
       "279            Shawshank Redemption, The (1994)  1372.0        308\n",
       "260                         Pulp Fiction (1994)  1352.0        325\n",
       "316                         Forrest Gump (1994)  1287.0        311\n",
       "525            Silence of the Lambs, The (1991)  1216.5        290\n",
       "230   Star Wars: Episode IV - A New Hope (1977)  1143.5        273\n",
       "2056                         Matrix, The (1999)  1113.0        261\n",
       "426                        Jurassic Park (1993)  1076.0        294\n",
       "471                     Schindler's List (1993)  1065.5        248\n",
       "98                            Braveheart (1995)  1019.0        248\n",
       "522           Terminator 2: Judgment Day (1991)  1002.0        253"
      ]
     },
     "execution_count": 14,
     "metadata": {},
     "output_type": "execute_result"
    }
   ],
   "source": [
    "movie_stat = df_ratings.groupby('movieId').agg({'rating':'sum', 'userId': 'count'}).reset_index()\n",
    "movie_stat.columns = ['movieId', 'rating', 'num_users']\n",
    "\n",
    "result_df = pd.merge(df_movies, movie_stat, on='movieId')\n",
    "result_df = result_df.sort_values(by='rating', ascending=False)\n",
    "top_rated_movies = result_df.head(10)\n",
    "\n",
    "top_rated_movies[['title', 'rating', 'num_users']]\n"
   ]
  },
  {
   "cell_type": "code",
   "execution_count": 15,
   "metadata": {},
   "outputs": [
    {
     "data": {
      "text/html": [
       "<div>\n",
       "<style scoped>\n",
       "    .dataframe tbody tr th:only-of-type {\n",
       "        vertical-align: middle;\n",
       "    }\n",
       "\n",
       "    .dataframe tbody tr th {\n",
       "        vertical-align: top;\n",
       "    }\n",
       "\n",
       "    .dataframe thead th {\n",
       "        text-align: right;\n",
       "    }\n",
       "</style>\n",
       "<table border=\"1\" class=\"dataframe\">\n",
       "  <thead>\n",
       "    <tr style=\"text-align: right;\">\n",
       "      <th></th>\n",
       "      <th>title</th>\n",
       "      <th>average_rating</th>\n",
       "      <th>num_users</th>\n",
       "    </tr>\n",
       "  </thead>\n",
       "  <tbody>\n",
       "    <tr>\n",
       "      <th>260</th>\n",
       "      <td>Pulp Fiction (1994)</td>\n",
       "      <td>4.160000</td>\n",
       "      <td>325</td>\n",
       "    </tr>\n",
       "    <tr>\n",
       "      <th>316</th>\n",
       "      <td>Forrest Gump (1994)</td>\n",
       "      <td>4.138264</td>\n",
       "      <td>311</td>\n",
       "    </tr>\n",
       "    <tr>\n",
       "      <th>279</th>\n",
       "      <td>Shawshank Redemption, The (1994)</td>\n",
       "      <td>4.454545</td>\n",
       "      <td>308</td>\n",
       "    </tr>\n",
       "    <tr>\n",
       "      <th>426</th>\n",
       "      <td>Jurassic Park (1993)</td>\n",
       "      <td>3.659864</td>\n",
       "      <td>294</td>\n",
       "    </tr>\n",
       "    <tr>\n",
       "      <th>525</th>\n",
       "      <td>Silence of the Lambs, The (1991)</td>\n",
       "      <td>4.194828</td>\n",
       "      <td>290</td>\n",
       "    </tr>\n",
       "    <tr>\n",
       "      <th>230</th>\n",
       "      <td>Star Wars: Episode IV - A New Hope (1977)</td>\n",
       "      <td>4.188645</td>\n",
       "      <td>273</td>\n",
       "    </tr>\n",
       "    <tr>\n",
       "      <th>2056</th>\n",
       "      <td>Matrix, The (1999)</td>\n",
       "      <td>4.264368</td>\n",
       "      <td>261</td>\n",
       "    </tr>\n",
       "    <tr>\n",
       "      <th>522</th>\n",
       "      <td>Terminator 2: Judgment Day (1991)</td>\n",
       "      <td>3.960474</td>\n",
       "      <td>253</td>\n",
       "    </tr>\n",
       "    <tr>\n",
       "      <th>471</th>\n",
       "      <td>Schindler's List (1993)</td>\n",
       "      <td>4.296371</td>\n",
       "      <td>248</td>\n",
       "    </tr>\n",
       "    <tr>\n",
       "      <th>98</th>\n",
       "      <td>Braveheart (1995)</td>\n",
       "      <td>4.108871</td>\n",
       "      <td>248</td>\n",
       "    </tr>\n",
       "  </tbody>\n",
       "</table>\n",
       "</div>"
      ],
      "text/plain": [
       "                                          title  average_rating  num_users\n",
       "260                         Pulp Fiction (1994)        4.160000        325\n",
       "316                         Forrest Gump (1994)        4.138264        311\n",
       "279            Shawshank Redemption, The (1994)        4.454545        308\n",
       "426                        Jurassic Park (1993)        3.659864        294\n",
       "525            Silence of the Lambs, The (1991)        4.194828        290\n",
       "230   Star Wars: Episode IV - A New Hope (1977)        4.188645        273\n",
       "2056                         Matrix, The (1999)        4.264368        261\n",
       "522           Terminator 2: Judgment Day (1991)        3.960474        253\n",
       "471                     Schindler's List (1993)        4.296371        248\n",
       "98                            Braveheart (1995)        4.108871        248"
      ]
     },
     "execution_count": 15,
     "metadata": {},
     "output_type": "execute_result"
    }
   ],
   "source": [
    "movie_stats = df_ratings.groupby('movieId').agg({'rating': 'mean', 'userId': 'count'}).reset_index()\n",
    "movie_stats.columns = ['movieId', 'average_rating', 'num_users']\n",
    "\n",
    "result_df = pd.merge(df_movies, movie_stats, on='movieId')\n",
    "result_df = result_df.sort_values(by='num_users', ascending=False)\n",
    "most_rated_movies = result_df.head(10)\n",
    "\n",
    "most_rated_movies[['title', 'average_rating', 'num_users']]\n"
   ]
  },
  {
   "cell_type": "code",
   "execution_count": 77,
   "metadata": {},
   "outputs": [
    {
     "data": {
      "text/html": [
       "<div>\n",
       "<style scoped>\n",
       "    .dataframe tbody tr th:only-of-type {\n",
       "        vertical-align: middle;\n",
       "    }\n",
       "\n",
       "    .dataframe tbody tr th {\n",
       "        vertical-align: top;\n",
       "    }\n",
       "\n",
       "    .dataframe thead th {\n",
       "        text-align: right;\n",
       "    }\n",
       "</style>\n",
       "<table border=\"1\" class=\"dataframe\">\n",
       "  <thead>\n",
       "    <tr style=\"text-align: right;\">\n",
       "      <th></th>\n",
       "      <th>genres</th>\n",
       "      <th>average_rating</th>\n",
       "      <th>num_users</th>\n",
       "    </tr>\n",
       "  </thead>\n",
       "  <tbody>\n",
       "    <tr>\n",
       "      <th>0</th>\n",
       "      <td>(no genres listed)</td>\n",
       "      <td>3.500000</td>\n",
       "      <td>6</td>\n",
       "    </tr>\n",
       "    <tr>\n",
       "      <th>10</th>\n",
       "      <td>Film-Noir</td>\n",
       "      <td>3.403108</td>\n",
       "      <td>1463</td>\n",
       "    </tr>\n",
       "    <tr>\n",
       "      <th>18</th>\n",
       "      <td>War</td>\n",
       "      <td>3.308078</td>\n",
       "      <td>5658</td>\n",
       "    </tr>\n",
       "    <tr>\n",
       "      <th>19</th>\n",
       "      <td>Western</td>\n",
       "      <td>3.305188</td>\n",
       "      <td>2415</td>\n",
       "    </tr>\n",
       "    <tr>\n",
       "      <th>7</th>\n",
       "      <td>Documentary</td>\n",
       "      <td>3.289218</td>\n",
       "      <td>1731</td>\n",
       "    </tr>\n",
       "    <tr>\n",
       "      <th>13</th>\n",
       "      <td>Musical</td>\n",
       "      <td>3.276181</td>\n",
       "      <td>4510</td>\n",
       "    </tr>\n",
       "    <tr>\n",
       "      <th>8</th>\n",
       "      <td>Drama</td>\n",
       "      <td>3.274313</td>\n",
       "      <td>48122</td>\n",
       "    </tr>\n",
       "    <tr>\n",
       "      <th>15</th>\n",
       "      <td>Romance</td>\n",
       "      <td>3.238567</td>\n",
       "      <td>19268</td>\n",
       "    </tr>\n",
       "    <tr>\n",
       "      <th>14</th>\n",
       "      <td>Mystery</td>\n",
       "      <td>3.223496</td>\n",
       "      <td>7954</td>\n",
       "    </tr>\n",
       "    <tr>\n",
       "      <th>6</th>\n",
       "      <td>Crime</td>\n",
       "      <td>3.208210</td>\n",
       "      <td>17491</td>\n",
       "    </tr>\n",
       "    <tr>\n",
       "      <th>3</th>\n",
       "      <td>Animation</td>\n",
       "      <td>3.194632</td>\n",
       "      <td>5373</td>\n",
       "    </tr>\n",
       "    <tr>\n",
       "      <th>2</th>\n",
       "      <td>Adventure</td>\n",
       "      <td>3.162870</td>\n",
       "      <td>21450</td>\n",
       "    </tr>\n",
       "    <tr>\n",
       "      <th>12</th>\n",
       "      <td>IMAX</td>\n",
       "      <td>3.146840</td>\n",
       "      <td>1389</td>\n",
       "    </tr>\n",
       "    <tr>\n",
       "      <th>9</th>\n",
       "      <td>Fantasy</td>\n",
       "      <td>3.139101</td>\n",
       "      <td>10169</td>\n",
       "    </tr>\n",
       "    <tr>\n",
       "      <th>17</th>\n",
       "      <td>Thriller</td>\n",
       "      <td>3.138291</td>\n",
       "      <td>27907</td>\n",
       "    </tr>\n",
       "    <tr>\n",
       "      <th>5</th>\n",
       "      <td>Comedy</td>\n",
       "      <td>3.108200</td>\n",
       "      <td>38045</td>\n",
       "    </tr>\n",
       "    <tr>\n",
       "      <th>1</th>\n",
       "      <td>Action</td>\n",
       "      <td>3.098722</td>\n",
       "      <td>28095</td>\n",
       "    </tr>\n",
       "    <tr>\n",
       "      <th>16</th>\n",
       "      <td>Sci-Fi</td>\n",
       "      <td>3.090582</td>\n",
       "      <td>15073</td>\n",
       "    </tr>\n",
       "    <tr>\n",
       "      <th>4</th>\n",
       "      <td>Children</td>\n",
       "      <td>3.047143</td>\n",
       "      <td>7683</td>\n",
       "    </tr>\n",
       "    <tr>\n",
       "      <th>11</th>\n",
       "      <td>Horror</td>\n",
       "      <td>2.948211</td>\n",
       "      <td>8542</td>\n",
       "    </tr>\n",
       "  </tbody>\n",
       "</table>\n",
       "</div>"
      ],
      "text/plain": [
       "                genres  average_rating  num_users\n",
       "0   (no genres listed)        3.500000          6\n",
       "10           Film-Noir        3.403108       1463\n",
       "18                 War        3.308078       5658\n",
       "19             Western        3.305188       2415\n",
       "7          Documentary        3.289218       1731\n",
       "13             Musical        3.276181       4510\n",
       "8                Drama        3.274313      48122\n",
       "15             Romance        3.238567      19268\n",
       "14             Mystery        3.223496       7954\n",
       "6                Crime        3.208210      17491\n",
       "3            Animation        3.194632       5373\n",
       "2            Adventure        3.162870      21450\n",
       "12                IMAX        3.146840       1389\n",
       "9              Fantasy        3.139101      10169\n",
       "17            Thriller        3.138291      27907\n",
       "5               Comedy        3.108200      38045\n",
       "1               Action        3.098722      28095\n",
       "16              Sci-Fi        3.090582      15073\n",
       "4             Children        3.047143       7683\n",
       "11              Horror        2.948211       8542"
      ]
     },
     "execution_count": 77,
     "metadata": {},
     "output_type": "execute_result"
    }
   ],
   "source": [
    "genre_stats = pd.merge(df_movies, movie_stats, on='movieId')\n",
    "genre_stats = genre_stats.assign(genres=result_df['genres'].str.split('|')).explode('genres')\n",
    "\n",
    "genre_stats = genre_stats.groupby('genres').agg({'average_rating': 'mean', 'num_users': 'sum'}).reset_index()\n",
    "top_genre_ratings = genre_stats.sort_values(by='average_rating', ascending=False)\n",
    "top_genre_ratings[['genres', 'average_rating', 'num_users']]\n"
   ]
  },
  {
   "cell_type": "markdown",
   "metadata": {},
   "source": [
    "## 4. Visualisasi Data"
   ]
  },
  {
   "cell_type": "code",
   "execution_count": 54,
   "metadata": {},
   "outputs": [
    {
     "data": {
      "image/png": "[encoded data removed]",
      "text/plain": [
       "<Figure size 1400x1400 with 1 Axes>"
      ]
     },
     "metadata": {},
     "output_type": "display_data"
    }
   ],
   "source": [
    "plt.figure(figsize=(14, 14))\n",
    "\n",
    "value_counts = df_movies['genres'].value_counts().head(10)\n",
    "value_counts.plot(kind='pie', autopct='%1.1f%%', startangle=90)\n",
    "\n",
    "plt.title('Distribusi Genre Film Teratas (Top 10)')\n",
    "plt.ylabel('')\n",
    "\n",
    "plt.show()"
   ]
  },
  {
   "cell_type": "code",
   "execution_count": 87,
   "metadata": {},
   "outputs": [
    {
     "data": {
      "image/png": "[encoded data removed]",
      "text/plain": [
       "<Figure size 2400x1200 with 2 Axes>"
      ]
     },
     "metadata": {},
     "output_type": "display_data"
    }
   ],
   "source": [
    "top_genre_ratings_sorted = top_genre_ratings.sort_values(by='num_users', ascending=True)\n",
    "\n",
    "fig, ax1 = plt.subplots(figsize=(24, 12))\n",
    "\n",
    "ax1.set_xlabel('Tata-rata Rating')\n",
    "ax1.set_ylabel('Genres')\n",
    "sns.barplot(x='average_rating', y='genres', data=top_genre_ratings_sorted, color='skyblue', ax=ax1, edgecolor='black')\n",
    "ax1.tick_params(axis='x')\n",
    "\n",
    "ax2 = ax1.twiny()\n",
    "color = 'salmon'\n",
    "ax2.set_xlabel('Jumlah Penonton', color=color)\n",
    "ax2.plot(top_genre_ratings_sorted['num_users'], top_genre_ratings_sorted['genres'], color=color, marker='o')\n",
    "ax2.tick_params(axis='x', labelcolor=color)\n",
    "\n",
    "plt.yticks(fontsize=12)\n",
    "\n",
    "ax1.grid(axis='x', linestyle='--', alpha=0.7)\n",
    "\n",
    "fig.tight_layout()\n",
    "plt.title('Distribusi Rata-rata Rating Penonton Terhadap Genre Film ', fontsize=16)\n",
    "plt.show()"
   ]
  },
  {
   "cell_type": "code",
   "execution_count": 17,
   "metadata": {},
   "outputs": [
    {
     "data": {
      "image/png": "[encoded data removed]",
      "text/plain": [
       "<Figure size 1600x400 with 1 Axes>"
      ]
     },
     "metadata": {},
     "output_type": "display_data"
    }
   ],
   "source": [
    "plt.figure(figsize=(16, 4))\n",
    "rating = df_ratings['rating'].value_counts().sort_index().index\n",
    "df_ratings['rating'].value_counts().sort_index().plot(kind='bar', color='skyblue', edgecolor='black')\n",
    "plt.title('Distribusi rating')\n",
    "plt.xlabel('Rating')\n",
    "plt.ylabel('Jumlah rating')\n",
    "plt.xticks(rotation=0)\n",
    "plt.show()"
   ]
  },
  {
   "cell_type": "code",
   "execution_count": 70,
   "metadata": {},
   "outputs": [
    {
     "data": {
      "image/png": "[encoded data removed]",
      "text/plain": [
       "<Figure size 1000x600 with 1 Axes>"
      ]
     },
     "metadata": {},
     "output_type": "display_data"
    }
   ],
   "source": [
    "plt.figure(figsize=(10, 6))\n",
    "plt.barh(top_rated_movies['title'], top_rated_movies['rating'], color='skyblue', edgecolor='black')\n",
    "plt.xlabel('Jumlah Rating')\n",
    "plt.title('Distribusi 10 Film Terbaik berdasarkan akumulasi Rating')\n",
    "plt.gca().invert_yaxis()\n",
    "plt.show()"
   ]
  },
  {
   "cell_type": "code",
   "execution_count": 88,
   "metadata": {},
   "outputs": [
    {
     "data": {
      "image/png": "[encoded data removed]",
      "text/plain": [
       "<Figure size 1600x800 with 2 Axes>"
      ]
     },
     "metadata": {},
     "output_type": "display_data"
    }
   ],
   "source": [
    "fig, ax1 = plt.subplots(figsize=(16, 8))\n",
    "\n",
    "color = 'skyblue'\n",
    "ax1.set_xlabel('Rata-rata Rating')\n",
    "ax1.set_ylabel('Film')\n",
    "ax1.barh(most_rated_movies['title'], most_rated_movies['average_rating'], color=color, edgecolor='black')\n",
    "ax1.tick_params(axis='x')\n",
    "\n",
    "ax2 = ax1.twiny()\n",
    "color = 'salmon' \n",
    "ax2.set_xlabel('Jumlah Penonton', color=color)\n",
    "ax2.plot(most_rated_movies['num_users'], most_rated_movies['title'], color=color, marker='o')\n",
    "ax2.tick_params(axis='x', labelcolor=color)\n",
    "\n",
    "plt.yticks(fontsize=12)\n",
    "\n",
    "ax1.grid(axis='x', linestyle='--', alpha=0.7)\n",
    "\n",
    "fig.tight_layout()\n",
    "plt.title('Distribusi Film terpopuler berdasarkan rata-rata rating dan jumlah penonton (Top 10)', fontsize=16)\n",
    "plt.show()"
   ]
  },
  {
   "cell_type": "markdown",
   "metadata": {},
   "source": [
    "## 5. Data Preprocessing"
   ]
  },
  {
   "cell_type": "markdown",
   "metadata": {},
   "source": [
    "### 5.1 Data Preparation"
   ]
  },
  {
   "cell_type": "markdown",
   "metadata": {},
   "source": [
    "#### Movies Dataset\n",
    "\n",
    "Mengatasi duplikasi data"
   ]
  },
  {
   "cell_type": "code",
   "execution_count": 20,
   "metadata": {},
   "outputs": [
    {
     "data": {
      "text/html": [
       "<div>\n",
       "<style scoped>\n",
       "    .dataframe tbody tr th:only-of-type {\n",
       "        vertical-align: middle;\n",
       "    }\n",
       "\n",
       "    .dataframe tbody tr th {\n",
       "        vertical-align: top;\n",
       "    }\n",
       "\n",
       "    .dataframe thead th {\n",
       "        text-align: right;\n",
       "    }\n",
       "</style>\n",
       "<table border=\"1\" class=\"dataframe\">\n",
       "  <thead>\n",
       "    <tr style=\"text-align: right;\">\n",
       "      <th></th>\n",
       "      <th>movieId</th>\n",
       "      <th>title</th>\n",
       "      <th>genres</th>\n",
       "    </tr>\n",
       "  </thead>\n",
       "  <tbody>\n",
       "    <tr>\n",
       "      <th>6270</th>\n",
       "      <td>26982</td>\n",
       "      <td>Men with Guns (1997)</td>\n",
       "      <td>Drama</td>\n",
       "    </tr>\n",
       "    <tr>\n",
       "      <th>7963</th>\n",
       "      <td>64997</td>\n",
       "      <td>War of the Worlds (2005)</td>\n",
       "      <td>Action|Sci-Fi</td>\n",
       "    </tr>\n",
       "  </tbody>\n",
       "</table>\n",
       "</div>"
      ],
      "text/plain": [
       "      movieId                     title         genres\n",
       "6270    26982      Men with Guns (1997)          Drama\n",
       "7963    64997  War of the Worlds (2005)  Action|Sci-Fi"
      ]
     },
     "execution_count": 20,
     "metadata": {},
     "output_type": "execute_result"
    }
   ],
   "source": [
    "df_movies[df_movies['title'].duplicated()]"
   ]
  },
  {
   "cell_type": "code",
   "execution_count": 21,
   "metadata": {},
   "outputs": [
    {
     "data": {
      "text/html": [
       "<div>\n",
       "<style scoped>\n",
       "    .dataframe tbody tr th:only-of-type {\n",
       "        vertical-align: middle;\n",
       "    }\n",
       "\n",
       "    .dataframe tbody tr th {\n",
       "        vertical-align: top;\n",
       "    }\n",
       "\n",
       "    .dataframe thead th {\n",
       "        text-align: right;\n",
       "    }\n",
       "</style>\n",
       "<table border=\"1\" class=\"dataframe\">\n",
       "  <thead>\n",
       "    <tr style=\"text-align: right;\">\n",
       "      <th></th>\n",
       "      <th>movieId</th>\n",
       "      <th>title</th>\n",
       "      <th>genres</th>\n",
       "    </tr>\n",
       "  </thead>\n",
       "  <tbody>\n",
       "    <tr>\n",
       "      <th>1403</th>\n",
       "      <td>1788</td>\n",
       "      <td>Men with Guns (1997)</td>\n",
       "      <td>Action|Drama</td>\n",
       "    </tr>\n",
       "    <tr>\n",
       "      <th>6270</th>\n",
       "      <td>26982</td>\n",
       "      <td>Men with Guns (1997)</td>\n",
       "      <td>Drama</td>\n",
       "    </tr>\n",
       "  </tbody>\n",
       "</table>\n",
       "</div>"
      ],
      "text/plain": [
       "      movieId                 title        genres\n",
       "1403     1788  Men with Guns (1997)  Action|Drama\n",
       "6270    26982  Men with Guns (1997)         Drama"
      ]
     },
     "execution_count": 21,
     "metadata": {},
     "output_type": "execute_result"
    }
   ],
   "source": [
    "df_movies[df_movies['title'] == \"Men with Guns (1997)\"]"
   ]
  },
  {
   "cell_type": "code",
   "execution_count": 22,
   "metadata": {},
   "outputs": [
    {
     "data": {
      "text/html": [
       "<div>\n",
       "<style scoped>\n",
       "    .dataframe tbody tr th:only-of-type {\n",
       "        vertical-align: middle;\n",
       "    }\n",
       "\n",
       "    .dataframe tbody tr th {\n",
       "        vertical-align: top;\n",
       "    }\n",
       "\n",
       "    .dataframe thead th {\n",
       "        text-align: right;\n",
       "    }\n",
       "</style>\n",
       "<table border=\"1\" class=\"dataframe\">\n",
       "  <thead>\n",
       "    <tr style=\"text-align: right;\">\n",
       "      <th></th>\n",
       "      <th>movieId</th>\n",
       "      <th>title</th>\n",
       "      <th>genres</th>\n",
       "    </tr>\n",
       "  </thead>\n",
       "  <tbody>\n",
       "    <tr>\n",
       "      <th>6662</th>\n",
       "      <td>34048</td>\n",
       "      <td>War of the Worlds (2005)</td>\n",
       "      <td>Action|Adventure|Sci-Fi|Thriller</td>\n",
       "    </tr>\n",
       "    <tr>\n",
       "      <th>7963</th>\n",
       "      <td>64997</td>\n",
       "      <td>War of the Worlds (2005)</td>\n",
       "      <td>Action|Sci-Fi</td>\n",
       "    </tr>\n",
       "  </tbody>\n",
       "</table>\n",
       "</div>"
      ],
      "text/plain": [
       "      movieId                     title                            genres\n",
       "6662    34048  War of the Worlds (2005)  Action|Adventure|Sci-Fi|Thriller\n",
       "7963    64997  War of the Worlds (2005)                     Action|Sci-Fi"
      ]
     },
     "execution_count": 22,
     "metadata": {},
     "output_type": "execute_result"
    }
   ],
   "source": [
    "df_movies[df_movies['title'] == \"War of the Worlds (2005)\"]"
   ]
  },
  {
   "cell_type": "code",
   "execution_count": 23,
   "metadata": {},
   "outputs": [],
   "source": [
    "df_movies.drop(df_movies.loc[df_movies['movieId'] == 26982].index, inplace=True)\n",
    "df_movies.drop(df_movies.loc[df_movies['movieId'] == 64997].index, inplace=True)"
   ]
  },
  {
   "cell_type": "code",
   "execution_count": 24,
   "metadata": {},
   "outputs": [
    {
     "data": {
      "text/html": [
       "<div>\n",
       "<style scoped>\n",
       "    .dataframe tbody tr th:only-of-type {\n",
       "        vertical-align: middle;\n",
       "    }\n",
       "\n",
       "    .dataframe tbody tr th {\n",
       "        vertical-align: top;\n",
       "    }\n",
       "\n",
       "    .dataframe thead th {\n",
       "        text-align: right;\n",
       "    }\n",
       "</style>\n",
       "<table border=\"1\" class=\"dataframe\">\n",
       "  <thead>\n",
       "    <tr style=\"text-align: right;\">\n",
       "      <th></th>\n",
       "      <th>movieId</th>\n",
       "      <th>title</th>\n",
       "      <th>genres</th>\n",
       "    </tr>\n",
       "  </thead>\n",
       "  <tbody>\n",
       "  </tbody>\n",
       "</table>\n",
       "</div>"
      ],
      "text/plain": [
       "Empty DataFrame\n",
       "Columns: [movieId, title, genres]\n",
       "Index: []"
      ]
     },
     "execution_count": 24,
     "metadata": {},
     "output_type": "execute_result"
    }
   ],
   "source": [
    "df_movies[df_movies['title'].duplicated()]"
   ]
  },
  {
   "cell_type": "markdown",
   "metadata": {},
   "source": [
    "Mengatasi Missing Value"
   ]
  },
  {
   "cell_type": "code",
   "execution_count": 25,
   "metadata": {},
   "outputs": [
    {
     "data": {
      "text/plain": [
       "movieId    0\n",
       "title      0\n",
       "genres     0\n",
       "dtype: int64"
      ]
     },
     "execution_count": 25,
     "metadata": {},
     "output_type": "execute_result"
    }
   ],
   "source": [
    "df_movies.isnull().sum()"
   ]
  },
  {
   "cell_type": "markdown",
   "metadata": {},
   "source": [
    "#### Ratings Dataset\n",
    "\n",
    "Mengatasi duplikasi data"
   ]
  },
  {
   "cell_type": "code",
   "execution_count": 26,
   "metadata": {},
   "outputs": [
    {
     "data": {
      "text/plain": [
       "0"
      ]
     },
     "execution_count": 26,
     "metadata": {},
     "output_type": "execute_result"
    }
   ],
   "source": [
    "df_ratings.duplicated().sum()"
   ]
  },
  {
   "cell_type": "markdown",
   "metadata": {},
   "source": [
    "Mengatasi missing value"
   ]
  },
  {
   "cell_type": "code",
   "execution_count": 27,
   "metadata": {},
   "outputs": [
    {
     "data": {
      "text/plain": [
       "userId       0\n",
       "movieId      0\n",
       "rating       0\n",
       "timestamp    0\n",
       "dtype: int64"
      ]
     },
     "execution_count": 27,
     "metadata": {},
     "output_type": "execute_result"
    }
   ],
   "source": [
    "df_ratings.isnull().sum()"
   ]
  },
  {
   "cell_type": "markdown",
   "metadata": {},
   "source": [
    "Menghapus atribut yang tidak dibutuhkan"
   ]
  },
  {
   "cell_type": "code",
   "execution_count": 28,
   "metadata": {},
   "outputs": [],
   "source": [
    "df_ratings = df_ratings.drop(columns=['timestamp'])"
   ]
  },
  {
   "cell_type": "markdown",
   "metadata": {},
   "source": [
    "## 7. Model Development dengan Content Based Filtering"
   ]
  },
  {
   "cell_type": "code",
   "execution_count": 29,
   "metadata": {},
   "outputs": [
    {
     "data": {
      "text/html": [
       "<div>\n",
       "<style scoped>\n",
       "    .dataframe tbody tr th:only-of-type {\n",
       "        vertical-align: middle;\n",
       "    }\n",
       "\n",
       "    .dataframe tbody tr th {\n",
       "        vertical-align: top;\n",
       "    }\n",
       "\n",
       "    .dataframe thead th {\n",
       "        text-align: right;\n",
       "    }\n",
       "</style>\n",
       "<table border=\"1\" class=\"dataframe\">\n",
       "  <thead>\n",
       "    <tr style=\"text-align: right;\">\n",
       "      <th></th>\n",
       "      <th>movieId</th>\n",
       "      <th>title</th>\n",
       "      <th>genres</th>\n",
       "    </tr>\n",
       "  </thead>\n",
       "  <tbody>\n",
       "    <tr>\n",
       "      <th>9019</th>\n",
       "      <td>87304</td>\n",
       "      <td>Beginners (2010)</td>\n",
       "      <td>Drama</td>\n",
       "    </tr>\n",
       "    <tr>\n",
       "      <th>5305</th>\n",
       "      <td>7318</td>\n",
       "      <td>Passion of the Christ, The (2004)</td>\n",
       "      <td>Drama</td>\n",
       "    </tr>\n",
       "    <tr>\n",
       "      <th>408</th>\n",
       "      <td>460</td>\n",
       "      <td>Getting Even with Dad (1994)</td>\n",
       "      <td>Comedy</td>\n",
       "    </tr>\n",
       "    <tr>\n",
       "      <th>9639</th>\n",
       "      <td>101741</td>\n",
       "      <td>Trance (2013)</td>\n",
       "      <td>Crime|Thriller</td>\n",
       "    </tr>\n",
       "    <tr>\n",
       "      <th>7189</th>\n",
       "      <td>48997</td>\n",
       "      <td>Perfume: The Story of a Murderer (2006)</td>\n",
       "      <td>Crime|Drama|Thriller</td>\n",
       "    </tr>\n",
       "  </tbody>\n",
       "</table>\n",
       "</div>"
      ],
      "text/plain": [
       "      movieId                                    title                genres\n",
       "9019    87304                         Beginners (2010)                 Drama\n",
       "5305     7318        Passion of the Christ, The (2004)                 Drama\n",
       "408       460             Getting Even with Dad (1994)                Comedy\n",
       "9639   101741                            Trance (2013)        Crime|Thriller\n",
       "7189    48997  Perfume: The Story of a Murderer (2006)  Crime|Drama|Thriller"
      ]
     },
     "execution_count": 29,
     "metadata": {},
     "output_type": "execute_result"
    }
   ],
   "source": [
    "movies_data = df_movies\n",
    "movies_data.sample(5)"
   ]
  },
  {
   "cell_type": "markdown",
   "metadata": {},
   "source": [
    "### 7.1 TF-IDF Vectorizer"
   ]
  },
  {
   "cell_type": "code",
   "execution_count": 30,
   "metadata": {},
   "outputs": [
    {
     "data": {
      "text/html": [
       "<div>\n",
       "<style scoped>\n",
       "    .dataframe tbody tr th:only-of-type {\n",
       "        vertical-align: middle;\n",
       "    }\n",
       "\n",
       "    .dataframe tbody tr th {\n",
       "        vertical-align: top;\n",
       "    }\n",
       "\n",
       "    .dataframe thead th {\n",
       "        text-align: right;\n",
       "    }\n",
       "</style>\n",
       "<table border=\"1\" class=\"dataframe\">\n",
       "  <thead>\n",
       "    <tr style=\"text-align: right;\">\n",
       "      <th></th>\n",
       "      <th>Genre</th>\n",
       "    </tr>\n",
       "  </thead>\n",
       "  <tbody>\n",
       "    <tr>\n",
       "      <th>0</th>\n",
       "      <td>action</td>\n",
       "    </tr>\n",
       "    <tr>\n",
       "      <th>1</th>\n",
       "      <td>adventure</td>\n",
       "    </tr>\n",
       "    <tr>\n",
       "      <th>2</th>\n",
       "      <td>animation</td>\n",
       "    </tr>\n",
       "    <tr>\n",
       "      <th>3</th>\n",
       "      <td>children</td>\n",
       "    </tr>\n",
       "    <tr>\n",
       "      <th>4</th>\n",
       "      <td>comedy</td>\n",
       "    </tr>\n",
       "    <tr>\n",
       "      <th>5</th>\n",
       "      <td>crime</td>\n",
       "    </tr>\n",
       "    <tr>\n",
       "      <th>6</th>\n",
       "      <td>documentary</td>\n",
       "    </tr>\n",
       "    <tr>\n",
       "      <th>7</th>\n",
       "      <td>drama</td>\n",
       "    </tr>\n",
       "    <tr>\n",
       "      <th>8</th>\n",
       "      <td>fantasy</td>\n",
       "    </tr>\n",
       "    <tr>\n",
       "      <th>9</th>\n",
       "      <td>fi</td>\n",
       "    </tr>\n",
       "    <tr>\n",
       "      <th>10</th>\n",
       "      <td>film</td>\n",
       "    </tr>\n",
       "    <tr>\n",
       "      <th>11</th>\n",
       "      <td>genres</td>\n",
       "    </tr>\n",
       "    <tr>\n",
       "      <th>12</th>\n",
       "      <td>horror</td>\n",
       "    </tr>\n",
       "    <tr>\n",
       "      <th>13</th>\n",
       "      <td>imax</td>\n",
       "    </tr>\n",
       "    <tr>\n",
       "      <th>14</th>\n",
       "      <td>listed</td>\n",
       "    </tr>\n",
       "    <tr>\n",
       "      <th>15</th>\n",
       "      <td>musical</td>\n",
       "    </tr>\n",
       "    <tr>\n",
       "      <th>16</th>\n",
       "      <td>mystery</td>\n",
       "    </tr>\n",
       "    <tr>\n",
       "      <th>17</th>\n",
       "      <td>no</td>\n",
       "    </tr>\n",
       "    <tr>\n",
       "      <th>18</th>\n",
       "      <td>noir</td>\n",
       "    </tr>\n",
       "    <tr>\n",
       "      <th>19</th>\n",
       "      <td>romance</td>\n",
       "    </tr>\n",
       "    <tr>\n",
       "      <th>20</th>\n",
       "      <td>sci</td>\n",
       "    </tr>\n",
       "    <tr>\n",
       "      <th>21</th>\n",
       "      <td>thriller</td>\n",
       "    </tr>\n",
       "    <tr>\n",
       "      <th>22</th>\n",
       "      <td>war</td>\n",
       "    </tr>\n",
       "    <tr>\n",
       "      <th>23</th>\n",
       "      <td>western</td>\n",
       "    </tr>\n",
       "  </tbody>\n",
       "</table>\n",
       "</div>"
      ],
      "text/plain": [
       "          Genre\n",
       "0        action\n",
       "1     adventure\n",
       "2     animation\n",
       "3      children\n",
       "4        comedy\n",
       "5         crime\n",
       "6   documentary\n",
       "7         drama\n",
       "8       fantasy\n",
       "9            fi\n",
       "10         film\n",
       "11       genres\n",
       "12       horror\n",
       "13         imax\n",
       "14       listed\n",
       "15      musical\n",
       "16      mystery\n",
       "17           no\n",
       "18         noir\n",
       "19      romance\n",
       "20          sci\n",
       "21     thriller\n",
       "22          war\n",
       "23      western"
      ]
     },
     "execution_count": 30,
     "metadata": {},
     "output_type": "execute_result"
    }
   ],
   "source": [
    "tfidf_vectorizer = TfidfVectorizer()\n",
    "tfidf_matrix = tfidf_vectorizer.fit_transform(movies_data['genres'])\n",
    "feature_names = pd.DataFrame(tfidf_vectorizer.get_feature_names_out(), columns=['Genre'])\n",
    "feature_names\n"
   ]
  },
  {
   "cell_type": "code",
   "execution_count": 31,
   "metadata": {},
   "outputs": [
    {
     "data": {
      "text/plain": [
       "(10327, 24)"
      ]
     },
     "execution_count": 31,
     "metadata": {},
     "output_type": "execute_result"
    }
   ],
   "source": [
    "tfidf_matrix.shape "
   ]
  },
  {
   "cell_type": "markdown",
   "metadata": {},
   "source": [
    "### 7.2 Mengubah matrix menjadi dense "
   ]
  },
  {
   "cell_type": "code",
   "execution_count": 32,
   "metadata": {},
   "outputs": [
    {
     "data": {
      "text/plain": [
       "matrix([[0.        , 0.40410002, 0.53922059, ..., 0.        , 0.        ,\n",
       "         0.        ],\n",
       "        [0.        , 0.50526841, 0.        , ..., 0.        , 0.        ,\n",
       "         0.        ],\n",
       "        [0.        , 0.        , 0.        , ..., 0.        , 0.        ,\n",
       "         0.        ],\n",
       "        ...,\n",
       "        [0.        , 0.        , 0.        , ..., 0.        , 0.        ,\n",
       "         0.        ],\n",
       "        [0.        , 0.        , 0.        , ..., 0.        , 0.        ,\n",
       "         0.        ],\n",
       "        [0.        , 0.        , 0.        , ..., 0.        , 0.        ,\n",
       "         0.        ]])"
      ]
     },
     "execution_count": 32,
     "metadata": {},
     "output_type": "execute_result"
    }
   ],
   "source": [
    "tfidf_matrix.todense()"
   ]
  },
  {
   "cell_type": "code",
   "execution_count": 33,
   "metadata": {},
   "outputs": [
    {
     "data": {
      "text/html": [
       "<div>\n",
       "<style scoped>\n",
       "    .dataframe tbody tr th:only-of-type {\n",
       "        vertical-align: middle;\n",
       "    }\n",
       "\n",
       "    .dataframe tbody tr th {\n",
       "        vertical-align: top;\n",
       "    }\n",
       "\n",
       "    .dataframe thead th {\n",
       "        text-align: right;\n",
       "    }\n",
       "</style>\n",
       "<table border=\"1\" class=\"dataframe\">\n",
       "  <thead>\n",
       "    <tr style=\"text-align: right;\">\n",
       "      <th></th>\n",
       "      <th>war</th>\n",
       "      <th>western</th>\n",
       "      <th>drama</th>\n",
       "      <th>film</th>\n",
       "      <th>animation</th>\n",
       "      <th>sci</th>\n",
       "      <th>mystery</th>\n",
       "      <th>imax</th>\n",
       "      <th>action</th>\n",
       "      <th>crime</th>\n",
       "      <th>...</th>\n",
       "      <th>comedy</th>\n",
       "      <th>musical</th>\n",
       "      <th>noir</th>\n",
       "      <th>no</th>\n",
       "      <th>romance</th>\n",
       "      <th>adventure</th>\n",
       "      <th>fantasy</th>\n",
       "      <th>listed</th>\n",
       "      <th>thriller</th>\n",
       "      <th>horror</th>\n",
       "    </tr>\n",
       "    <tr>\n",
       "      <th>title</th>\n",
       "      <th></th>\n",
       "      <th></th>\n",
       "      <th></th>\n",
       "      <th></th>\n",
       "      <th></th>\n",
       "      <th></th>\n",
       "      <th></th>\n",
       "      <th></th>\n",
       "      <th></th>\n",
       "      <th></th>\n",
       "      <th></th>\n",
       "      <th></th>\n",
       "      <th></th>\n",
       "      <th></th>\n",
       "      <th></th>\n",
       "      <th></th>\n",
       "      <th></th>\n",
       "      <th></th>\n",
       "      <th></th>\n",
       "      <th></th>\n",
       "      <th></th>\n",
       "    </tr>\n",
       "  </thead>\n",
       "  <tbody>\n",
       "    <tr>\n",
       "      <th>Great Dictator, The (1940)</th>\n",
       "      <td>0.832693</td>\n",
       "      <td>0.0</td>\n",
       "      <td>0.348477</td>\n",
       "      <td>0.0</td>\n",
       "      <td>0.0</td>\n",
       "      <td>0.0</td>\n",
       "      <td>0.0</td>\n",
       "      <td>0.0</td>\n",
       "      <td>0.000000</td>\n",
       "      <td>0.0</td>\n",
       "      <td>...</td>\n",
       "      <td>0.430332</td>\n",
       "      <td>0.0</td>\n",
       "      <td>0.0</td>\n",
       "      <td>0.0</td>\n",
       "      <td>0.000000</td>\n",
       "      <td>0.00000</td>\n",
       "      <td>0.000000</td>\n",
       "      <td>0.0</td>\n",
       "      <td>0.00000</td>\n",
       "      <td>0.0</td>\n",
       "    </tr>\n",
       "    <tr>\n",
       "      <th>Bachelor, The (1999)</th>\n",
       "      <td>0.000000</td>\n",
       "      <td>0.0</td>\n",
       "      <td>0.000000</td>\n",
       "      <td>0.0</td>\n",
       "      <td>0.0</td>\n",
       "      <td>0.0</td>\n",
       "      <td>0.0</td>\n",
       "      <td>0.0</td>\n",
       "      <td>0.000000</td>\n",
       "      <td>0.0</td>\n",
       "      <td>...</td>\n",
       "      <td>0.602342</td>\n",
       "      <td>0.0</td>\n",
       "      <td>0.0</td>\n",
       "      <td>0.0</td>\n",
       "      <td>0.798238</td>\n",
       "      <td>0.00000</td>\n",
       "      <td>0.000000</td>\n",
       "      <td>0.0</td>\n",
       "      <td>0.00000</td>\n",
       "      <td>0.0</td>\n",
       "    </tr>\n",
       "    <tr>\n",
       "      <th>Mummy: Tomb of the Dragon Emperor, The (2008)</th>\n",
       "      <td>0.000000</td>\n",
       "      <td>0.0</td>\n",
       "      <td>0.000000</td>\n",
       "      <td>0.0</td>\n",
       "      <td>0.0</td>\n",
       "      <td>0.0</td>\n",
       "      <td>0.0</td>\n",
       "      <td>0.0</td>\n",
       "      <td>0.449507</td>\n",
       "      <td>0.0</td>\n",
       "      <td>...</td>\n",
       "      <td>0.000000</td>\n",
       "      <td>0.0</td>\n",
       "      <td>0.0</td>\n",
       "      <td>0.0</td>\n",
       "      <td>0.000000</td>\n",
       "      <td>0.51403</td>\n",
       "      <td>0.603151</td>\n",
       "      <td>0.0</td>\n",
       "      <td>0.41222</td>\n",
       "      <td>0.0</td>\n",
       "    </tr>\n",
       "    <tr>\n",
       "      <th>Saturday Night and Sunday Morning (1960)</th>\n",
       "      <td>0.000000</td>\n",
       "      <td>0.0</td>\n",
       "      <td>1.000000</td>\n",
       "      <td>0.0</td>\n",
       "      <td>0.0</td>\n",
       "      <td>0.0</td>\n",
       "      <td>0.0</td>\n",
       "      <td>0.0</td>\n",
       "      <td>0.000000</td>\n",
       "      <td>0.0</td>\n",
       "      <td>...</td>\n",
       "      <td>0.000000</td>\n",
       "      <td>0.0</td>\n",
       "      <td>0.0</td>\n",
       "      <td>0.0</td>\n",
       "      <td>0.000000</td>\n",
       "      <td>0.00000</td>\n",
       "      <td>0.000000</td>\n",
       "      <td>0.0</td>\n",
       "      <td>0.00000</td>\n",
       "      <td>0.0</td>\n",
       "    </tr>\n",
       "    <tr>\n",
       "      <th>It's a Disaster (2012)</th>\n",
       "      <td>0.000000</td>\n",
       "      <td>0.0</td>\n",
       "      <td>0.629322</td>\n",
       "      <td>0.0</td>\n",
       "      <td>0.0</td>\n",
       "      <td>0.0</td>\n",
       "      <td>0.0</td>\n",
       "      <td>0.0</td>\n",
       "      <td>0.000000</td>\n",
       "      <td>0.0</td>\n",
       "      <td>...</td>\n",
       "      <td>0.777145</td>\n",
       "      <td>0.0</td>\n",
       "      <td>0.0</td>\n",
       "      <td>0.0</td>\n",
       "      <td>0.000000</td>\n",
       "      <td>0.00000</td>\n",
       "      <td>0.000000</td>\n",
       "      <td>0.0</td>\n",
       "      <td>0.00000</td>\n",
       "      <td>0.0</td>\n",
       "    </tr>\n",
       "  </tbody>\n",
       "</table>\n",
       "<p>5 rows × 24 columns</p>\n",
       "</div>"
      ],
      "text/plain": [
       "                                                    war  western     drama  \\\n",
       "title                                                                        \n",
       "Great Dictator, The (1940)                     0.832693      0.0  0.348477   \n",
       "Bachelor, The (1999)                           0.000000      0.0  0.000000   \n",
       "Mummy: Tomb of the Dragon Emperor, The (2008)  0.000000      0.0  0.000000   \n",
       "Saturday Night and Sunday Morning (1960)       0.000000      0.0  1.000000   \n",
       "It's a Disaster (2012)                         0.000000      0.0  0.629322   \n",
       "\n",
       "                                               film  animation  sci  mystery  \\\n",
       "title                                                                          \n",
       "Great Dictator, The (1940)                      0.0        0.0  0.0      0.0   \n",
       "Bachelor, The (1999)                            0.0        0.0  0.0      0.0   \n",
       "Mummy: Tomb of the Dragon Emperor, The (2008)   0.0        0.0  0.0      0.0   \n",
       "Saturday Night and Sunday Morning (1960)        0.0        0.0  0.0      0.0   \n",
       "It's a Disaster (2012)                          0.0        0.0  0.0      0.0   \n",
       "\n",
       "                                               imax    action  crime  ...  \\\n",
       "title                                                                 ...   \n",
       "Great Dictator, The (1940)                      0.0  0.000000    0.0  ...   \n",
       "Bachelor, The (1999)                            0.0  0.000000    0.0  ...   \n",
       "Mummy: Tomb of the Dragon Emperor, The (2008)   0.0  0.449507    0.0  ...   \n",
       "Saturday Night and Sunday Morning (1960)        0.0  0.000000    0.0  ...   \n",
       "It's a Disaster (2012)                          0.0  0.000000    0.0  ...   \n",
       "\n",
       "                                                 comedy  musical  noir   no  \\\n",
       "title                                                                         \n",
       "Great Dictator, The (1940)                     0.430332      0.0   0.0  0.0   \n",
       "Bachelor, The (1999)                           0.602342      0.0   0.0  0.0   \n",
       "Mummy: Tomb of the Dragon Emperor, The (2008)  0.000000      0.0   0.0  0.0   \n",
       "Saturday Night and Sunday Morning (1960)       0.000000      0.0   0.0  0.0   \n",
       "It's a Disaster (2012)                         0.777145      0.0   0.0  0.0   \n",
       "\n",
       "                                                romance  adventure   fantasy  \\\n",
       "title                                                                          \n",
       "Great Dictator, The (1940)                     0.000000    0.00000  0.000000   \n",
       "Bachelor, The (1999)                           0.798238    0.00000  0.000000   \n",
       "Mummy: Tomb of the Dragon Emperor, The (2008)  0.000000    0.51403  0.603151   \n",
       "Saturday Night and Sunday Morning (1960)       0.000000    0.00000  0.000000   \n",
       "It's a Disaster (2012)                         0.000000    0.00000  0.000000   \n",
       "\n",
       "                                               listed  thriller  horror  \n",
       "title                                                                    \n",
       "Great Dictator, The (1940)                        0.0   0.00000     0.0  \n",
       "Bachelor, The (1999)                              0.0   0.00000     0.0  \n",
       "Mummy: Tomb of the Dragon Emperor, The (2008)     0.0   0.41222     0.0  \n",
       "Saturday Night and Sunday Morning (1960)          0.0   0.00000     0.0  \n",
       "It's a Disaster (2012)                            0.0   0.00000     0.0  \n",
       "\n",
       "[5 rows x 24 columns]"
      ]
     },
     "execution_count": 33,
     "metadata": {},
     "output_type": "execute_result"
    }
   ],
   "source": [
    "pd.DataFrame(\n",
    "    tfidf_matrix.todense(), \n",
    "    columns=tfidf_vectorizer.get_feature_names_out(),\n",
    "    index=movies_data.title\n",
    ").sample(24, axis=1).sample(5, axis=0)"
   ]
  },
  {
   "cell_type": "markdown",
   "metadata": {},
   "source": [
    "### 7.3 Menghitung Derajat Kesamaan (Cosine Similarity)"
   ]
  },
  {
   "cell_type": "code",
   "execution_count": 34,
   "metadata": {},
   "outputs": [
    {
     "data": {
      "text/plain": [
       "array([[1.        , 0.79977297, 0.1589136 , ..., 0.26382637, 0.        ,\n",
       "        0.        ],\n",
       "       [0.79977297, 1.        , 0.        , ..., 0.        , 0.        ,\n",
       "        0.        ],\n",
       "       [0.1589136 , 0.        , 1.        , ..., 0.6023416 , 0.        ,\n",
       "        0.        ],\n",
       "       ...,\n",
       "       [0.26382637, 0.        , 0.6023416 , ..., 1.        , 0.        ,\n",
       "        0.        ],\n",
       "       [0.        , 0.        , 0.        , ..., 0.        , 1.        ,\n",
       "        0.        ],\n",
       "       [0.        , 0.        , 0.        , ..., 0.        , 0.        ,\n",
       "        1.        ]])"
      ]
     },
     "execution_count": 34,
     "metadata": {},
     "output_type": "execute_result"
    }
   ],
   "source": [
    "cosine_sim = cosine_similarity(tfidf_matrix) \n",
    "cosine_sim"
   ]
  },
  {
   "cell_type": "code",
   "execution_count": 35,
   "metadata": {},
   "outputs": [
    {
     "data": {
      "text/html": [
       "<div>\n",
       "<style scoped>\n",
       "    .dataframe tbody tr th:only-of-type {\n",
       "        vertical-align: middle;\n",
       "    }\n",
       "\n",
       "    .dataframe tbody tr th {\n",
       "        vertical-align: top;\n",
       "    }\n",
       "\n",
       "    .dataframe thead th {\n",
       "        text-align: right;\n",
       "    }\n",
       "</style>\n",
       "<table border=\"1\" class=\"dataframe\">\n",
       "  <thead>\n",
       "    <tr style=\"text-align: right;\">\n",
       "      <th>title</th>\n",
       "      <th>36 fillette (1988)</th>\n",
       "      <th>Killshot (2008)</th>\n",
       "      <th>Flags of Our Fathers (2006)</th>\n",
       "      <th>Faculty, The (1998)</th>\n",
       "      <th>Bitter Tea of General Yen, The (1933)</th>\n",
       "    </tr>\n",
       "    <tr>\n",
       "      <th>title</th>\n",
       "      <th></th>\n",
       "      <th></th>\n",
       "      <th></th>\n",
       "      <th></th>\n",
       "      <th></th>\n",
       "    </tr>\n",
       "  </thead>\n",
       "  <tbody>\n",
       "    <tr>\n",
       "      <th>Blue Angel, The (Blaue Engel, Der) (1930)</th>\n",
       "      <td>0.521416</td>\n",
       "      <td>0.330550</td>\n",
       "      <td>0.386051</td>\n",
       "      <td>0.000000</td>\n",
       "      <td>0.326373</td>\n",
       "    </tr>\n",
       "    <tr>\n",
       "      <th>Bound (1996)</th>\n",
       "      <td>0.635954</td>\n",
       "      <td>0.703291</td>\n",
       "      <td>0.128013</td>\n",
       "      <td>0.000000</td>\n",
       "      <td>0.398066</td>\n",
       "    </tr>\n",
       "    <tr>\n",
       "      <th>Gnomeo &amp; Juliet (2011)</th>\n",
       "      <td>0.281623</td>\n",
       "      <td>0.000000</td>\n",
       "      <td>0.000000</td>\n",
       "      <td>0.000000</td>\n",
       "      <td>0.176278</td>\n",
       "    </tr>\n",
       "    <tr>\n",
       "      <th>Effect of Gamma Rays on Man-in-the-Moon Marigolds, The (1972)</th>\n",
       "      <td>0.521416</td>\n",
       "      <td>0.330550</td>\n",
       "      <td>0.386051</td>\n",
       "      <td>0.000000</td>\n",
       "      <td>0.326373</td>\n",
       "    </tr>\n",
       "    <tr>\n",
       "      <th>Grass (1999)</th>\n",
       "      <td>0.000000</td>\n",
       "      <td>0.000000</td>\n",
       "      <td>0.000000</td>\n",
       "      <td>0.000000</td>\n",
       "      <td>0.000000</td>\n",
       "    </tr>\n",
       "    <tr>\n",
       "      <th>CB4 - The Movie (1993)</th>\n",
       "      <td>0.000000</td>\n",
       "      <td>0.000000</td>\n",
       "      <td>0.000000</td>\n",
       "      <td>0.000000</td>\n",
       "      <td>0.000000</td>\n",
       "    </tr>\n",
       "    <tr>\n",
       "      <th>[REC]² (2009)</th>\n",
       "      <td>0.000000</td>\n",
       "      <td>0.304812</td>\n",
       "      <td>0.000000</td>\n",
       "      <td>0.444714</td>\n",
       "      <td>0.000000</td>\n",
       "    </tr>\n",
       "    <tr>\n",
       "      <th>Yours, Mine and Ours (1968)</th>\n",
       "      <td>0.000000</td>\n",
       "      <td>0.000000</td>\n",
       "      <td>0.000000</td>\n",
       "      <td>0.000000</td>\n",
       "      <td>0.000000</td>\n",
       "    </tr>\n",
       "    <tr>\n",
       "      <th>Futurama: Bender's Game (2008)</th>\n",
       "      <td>0.000000</td>\n",
       "      <td>0.171765</td>\n",
       "      <td>0.000000</td>\n",
       "      <td>0.461041</td>\n",
       "      <td>0.000000</td>\n",
       "    </tr>\n",
       "    <tr>\n",
       "      <th>Ever After: A Cinderella Story (1998)</th>\n",
       "      <td>0.840782</td>\n",
       "      <td>0.144912</td>\n",
       "      <td>0.169244</td>\n",
       "      <td>0.000000</td>\n",
       "      <td>0.526276</td>\n",
       "    </tr>\n",
       "  </tbody>\n",
       "</table>\n",
       "</div>"
      ],
      "text/plain": [
       "title                                               36 fillette (1988)  \\\n",
       "title                                                                    \n",
       "Blue Angel, The (Blaue Engel, Der) (1930)                     0.521416   \n",
       "Bound (1996)                                                  0.635954   \n",
       "Gnomeo & Juliet (2011)                                        0.281623   \n",
       "Effect of Gamma Rays on Man-in-the-Moon Marigol...            0.521416   \n",
       "Grass (1999)                                                  0.000000   \n",
       "CB4 - The Movie (1993)                                        0.000000   \n",
       "[REC]² (2009)                                                 0.000000   \n",
       "Yours, Mine and Ours (1968)                                   0.000000   \n",
       "Futurama: Bender's Game (2008)                                0.000000   \n",
       "Ever After: A Cinderella Story (1998)                         0.840782   \n",
       "\n",
       "title                                               Killshot (2008)  \\\n",
       "title                                                                 \n",
       "Blue Angel, The (Blaue Engel, Der) (1930)                  0.330550   \n",
       "Bound (1996)                                               0.703291   \n",
       "Gnomeo & Juliet (2011)                                     0.000000   \n",
       "Effect of Gamma Rays on Man-in-the-Moon Marigol...         0.330550   \n",
       "Grass (1999)                                               0.000000   \n",
       "CB4 - The Movie (1993)                                     0.000000   \n",
       "[REC]² (2009)                                              0.304812   \n",
       "Yours, Mine and Ours (1968)                                0.000000   \n",
       "Futurama: Bender's Game (2008)                             0.171765   \n",
       "Ever After: A Cinderella Story (1998)                      0.144912   \n",
       "\n",
       "title                                               Flags of Our Fathers (2006)  \\\n",
       "title                                                                             \n",
       "Blue Angel, The (Blaue Engel, Der) (1930)                              0.386051   \n",
       "Bound (1996)                                                           0.128013   \n",
       "Gnomeo & Juliet (2011)                                                 0.000000   \n",
       "Effect of Gamma Rays on Man-in-the-Moon Marigol...                     0.386051   \n",
       "Grass (1999)                                                           0.000000   \n",
       "CB4 - The Movie (1993)                                                 0.000000   \n",
       "[REC]² (2009)                                                          0.000000   \n",
       "Yours, Mine and Ours (1968)                                            0.000000   \n",
       "Futurama: Bender's Game (2008)                                         0.000000   \n",
       "Ever After: A Cinderella Story (1998)                                  0.169244   \n",
       "\n",
       "title                                               Faculty, The (1998)  \\\n",
       "title                                                                     \n",
       "Blue Angel, The (Blaue Engel, Der) (1930)                      0.000000   \n",
       "Bound (1996)                                                   0.000000   \n",
       "Gnomeo & Juliet (2011)                                         0.000000   \n",
       "Effect of Gamma Rays on Man-in-the-Moon Marigol...             0.000000   \n",
       "Grass (1999)                                                   0.000000   \n",
       "CB4 - The Movie (1993)                                         0.000000   \n",
       "[REC]² (2009)                                                  0.444714   \n",
       "Yours, Mine and Ours (1968)                                    0.000000   \n",
       "Futurama: Bender's Game (2008)                                 0.461041   \n",
       "Ever After: A Cinderella Story (1998)                          0.000000   \n",
       "\n",
       "title                                               Bitter Tea of General Yen, The (1933)  \n",
       "title                                                                                      \n",
       "Blue Angel, The (Blaue Engel, Der) (1930)                                        0.326373  \n",
       "Bound (1996)                                                                     0.398066  \n",
       "Gnomeo & Juliet (2011)                                                           0.176278  \n",
       "Effect of Gamma Rays on Man-in-the-Moon Marigol...                               0.326373  \n",
       "Grass (1999)                                                                     0.000000  \n",
       "CB4 - The Movie (1993)                                                           0.000000  \n",
       "[REC]² (2009)                                                                    0.000000  \n",
       "Yours, Mine and Ours (1968)                                                      0.000000  \n",
       "Futurama: Bender's Game (2008)                                                   0.000000  \n",
       "Ever After: A Cinderella Story (1998)                                            0.526276  "
      ]
     },
     "execution_count": 35,
     "metadata": {},
     "output_type": "execute_result"
    }
   ],
   "source": [
    "cosine_sim_df = pd.DataFrame(cosine_sim, index=movies_data['title'], columns=movies_data['title'])\n",
    "cosine_sim_df.sample(5, axis=1).sample(10, axis=0)"
   ]
  },
  {
   "cell_type": "code",
   "execution_count": 36,
   "metadata": {},
   "outputs": [
    {
     "data": {
      "text/plain": [
       "(10327, 10327)"
      ]
     },
     "execution_count": 36,
     "metadata": {},
     "output_type": "execute_result"
    }
   ],
   "source": [
    "cosine_sim_df.shape"
   ]
  },
  {
   "cell_type": "markdown",
   "metadata": {},
   "source": [
    "#### 7.4 Mendapatkan Rekomendasi"
   ]
  },
  {
   "cell_type": "code",
   "execution_count": 37,
   "metadata": {},
   "outputs": [],
   "source": [
    "def movie_recommendations(title, similarity_data=cosine_sim_df, items=movies_data[['title', 'genres']], k=5):\n",
    "\n",
    "    index = similarity_data.loc[:, title].to_numpy().argpartition(range(-1, -k, -1))\n",
    "    closest = similarity_data.columns[index[-1:-(k+2):-1]].drop(title, errors='ignore')\n",
    "    recommendations = pd.DataFrame(closest).merge(items).head(k)\n",
    "    \n",
    "    return recommendations"
   ]
  },
  {
   "cell_type": "markdown",
   "metadata": {},
   "source": [
    "### 7.5 Hasil Rekomendasi film berdasarkan genre"
   ]
  },
  {
   "cell_type": "code",
   "execution_count": 38,
   "metadata": {},
   "outputs": [
    {
     "data": {
      "text/html": [
       "<div>\n",
       "<style scoped>\n",
       "    .dataframe tbody tr th:only-of-type {\n",
       "        vertical-align: middle;\n",
       "    }\n",
       "\n",
       "    .dataframe tbody tr th {\n",
       "        vertical-align: top;\n",
       "    }\n",
       "\n",
       "    .dataframe thead th {\n",
       "        text-align: right;\n",
       "    }\n",
       "</style>\n",
       "<table border=\"1\" class=\"dataframe\">\n",
       "  <thead>\n",
       "    <tr style=\"text-align: right;\">\n",
       "      <th></th>\n",
       "      <th>movieId</th>\n",
       "      <th>title</th>\n",
       "      <th>genres</th>\n",
       "    </tr>\n",
       "  </thead>\n",
       "  <tbody>\n",
       "    <tr>\n",
       "      <th>260</th>\n",
       "      <td>296</td>\n",
       "      <td>Pulp Fiction (1994)</td>\n",
       "      <td>Comedy|Crime|Drama|Thriller</td>\n",
       "    </tr>\n",
       "  </tbody>\n",
       "</table>\n",
       "</div>"
      ],
      "text/plain": [
       "     movieId                title                       genres\n",
       "260      296  Pulp Fiction (1994)  Comedy|Crime|Drama|Thriller"
      ]
     },
     "execution_count": 38,
     "metadata": {},
     "output_type": "execute_result"
    }
   ],
   "source": [
    "movies_data[movies_data.title.eq('Pulp Fiction (1994)')]"
   ]
  },
  {
   "cell_type": "code",
   "execution_count": 39,
   "metadata": {},
   "outputs": [
    {
     "data": {
      "text/html": [
       "<div>\n",
       "<style scoped>\n",
       "    .dataframe tbody tr th:only-of-type {\n",
       "        vertical-align: middle;\n",
       "    }\n",
       "\n",
       "    .dataframe tbody tr th {\n",
       "        vertical-align: top;\n",
       "    }\n",
       "\n",
       "    .dataframe thead th {\n",
       "        text-align: right;\n",
       "    }\n",
       "</style>\n",
       "<table border=\"1\" class=\"dataframe\">\n",
       "  <thead>\n",
       "    <tr style=\"text-align: right;\">\n",
       "      <th></th>\n",
       "      <th>title</th>\n",
       "      <th>genres</th>\n",
       "    </tr>\n",
       "  </thead>\n",
       "  <tbody>\n",
       "    <tr>\n",
       "      <th>0</th>\n",
       "      <td>Confessions of a Dangerous Mind (2002)</td>\n",
       "      <td>Comedy|Crime|Drama|Thriller</td>\n",
       "    </tr>\n",
       "    <tr>\n",
       "      <th>1</th>\n",
       "      <td>Informant!, The (2009)</td>\n",
       "      <td>Comedy|Crime|Drama|Thriller</td>\n",
       "    </tr>\n",
       "    <tr>\n",
       "      <th>2</th>\n",
       "      <td>Cul-de-sac (1966)</td>\n",
       "      <td>Comedy|Crime|Drama|Thriller</td>\n",
       "    </tr>\n",
       "    <tr>\n",
       "      <th>3</th>\n",
       "      <td>Hard Word, The (2002)</td>\n",
       "      <td>Comedy|Crime|Drama|Thriller</td>\n",
       "    </tr>\n",
       "    <tr>\n",
       "      <th>4</th>\n",
       "      <td>Fargo (1996)</td>\n",
       "      <td>Comedy|Crime|Drama|Thriller</td>\n",
       "    </tr>\n",
       "  </tbody>\n",
       "</table>\n",
       "</div>"
      ],
      "text/plain": [
       "                                    title                       genres\n",
       "0  Confessions of a Dangerous Mind (2002)  Comedy|Crime|Drama|Thriller\n",
       "1                  Informant!, The (2009)  Comedy|Crime|Drama|Thriller\n",
       "2                       Cul-de-sac (1966)  Comedy|Crime|Drama|Thriller\n",
       "3                   Hard Word, The (2002)  Comedy|Crime|Drama|Thriller\n",
       "4                            Fargo (1996)  Comedy|Crime|Drama|Thriller"
      ]
     },
     "execution_count": 39,
     "metadata": {},
     "output_type": "execute_result"
    }
   ],
   "source": [
    "movie_recommendations('Pulp Fiction (1994)')"
   ]
  },
  {
   "cell_type": "markdown",
   "metadata": {},
   "source": [
    "## 8. Model Development dengan Collaborative Filtering"
   ]
  },
  {
   "cell_type": "markdown",
   "metadata": {},
   "source": [
    "### 8.1 Encoding atribut userId dan movieId"
   ]
  },
  {
   "cell_type": "code",
   "execution_count": 40,
   "metadata": {},
   "outputs": [],
   "source": [
    "ratings_data = df_ratings"
   ]
  },
  {
   "cell_type": "code",
   "execution_count": 41,
   "metadata": {},
   "outputs": [],
   "source": [
    "user_to_user_encoded = {user_id: i for i, user_id in enumerate(ratings_data['userId'].unique())}\n",
    "user_encoded_to_user = {i: user_id for i, user_id in enumerate(ratings_data['userId'].unique())}\n",
    "\n",
    "movie_to_movie_encoded = {movie_id: i for i, movie_id in enumerate(ratings_data['movieId'].unique())}\n",
    "movie_encoded_to_movie = {i: movie_id for i, movie_id in enumerate(ratings_data['movieId'].unique())}\n",
    "\n",
    "ratings_data['user'] = ratings_data['userId'].map(user_to_user_encoded)\n",
    "ratings_data['movie'] = ratings_data['movieId'].map(movie_to_movie_encoded)"
   ]
  },
  {
   "cell_type": "code",
   "execution_count": 42,
   "metadata": {},
   "outputs": [
    {
     "data": {
      "text/html": [
       "<div>\n",
       "<style scoped>\n",
       "    .dataframe tbody tr th:only-of-type {\n",
       "        vertical-align: middle;\n",
       "    }\n",
       "\n",
       "    .dataframe tbody tr th {\n",
       "        vertical-align: top;\n",
       "    }\n",
       "\n",
       "    .dataframe thead th {\n",
       "        text-align: right;\n",
       "    }\n",
       "</style>\n",
       "<table border=\"1\" class=\"dataframe\">\n",
       "  <thead>\n",
       "    <tr style=\"text-align: right;\">\n",
       "      <th></th>\n",
       "      <th>Value Count</th>\n",
       "    </tr>\n",
       "  </thead>\n",
       "  <tbody>\n",
       "    <tr>\n",
       "      <th>Number of User</th>\n",
       "      <td>668.0</td>\n",
       "    </tr>\n",
       "    <tr>\n",
       "      <th>Number of Movie</th>\n",
       "      <td>10325.0</td>\n",
       "    </tr>\n",
       "    <tr>\n",
       "      <th>Min Rating</th>\n",
       "      <td>0.5</td>\n",
       "    </tr>\n",
       "    <tr>\n",
       "      <th>Max Rating</th>\n",
       "      <td>5.0</td>\n",
       "    </tr>\n",
       "  </tbody>\n",
       "</table>\n",
       "</div>"
      ],
      "text/plain": [
       "                 Value Count\n",
       "Number of User         668.0\n",
       "Number of Movie      10325.0\n",
       "Min Rating               0.5\n",
       "Max Rating               5.0"
      ]
     },
     "execution_count": 42,
     "metadata": {},
     "output_type": "execute_result"
    }
   ],
   "source": [
    "num_users = len(user_to_user_encoded)\n",
    "num_movies = len(movie_encoded_to_movie)\n",
    "min_rating = ratings_data['rating'].min()\n",
    "max_rating = ratings_data['rating'].max()\n",
    "\n",
    "value = pd.DataFrame({'Value Count': [num_users, num_movies, min_rating, max_rating]},\n",
    "                     index=['Number of User', 'Number of Movie', 'Min Rating', 'Max Rating'])\n",
    "\n",
    "value"
   ]
  },
  {
   "cell_type": "markdown",
   "metadata": {},
   "source": [
    "### 8.2 Membagi Data untuk Training dan Validasi"
   ]
  },
  {
   "cell_type": "code",
   "execution_count": 43,
   "metadata": {},
   "outputs": [
    {
     "data": {
      "text/html": [
       "<div>\n",
       "<style scoped>\n",
       "    .dataframe tbody tr th:only-of-type {\n",
       "        vertical-align: middle;\n",
       "    }\n",
       "\n",
       "    .dataframe tbody tr th {\n",
       "        vertical-align: top;\n",
       "    }\n",
       "\n",
       "    .dataframe thead th {\n",
       "        text-align: right;\n",
       "    }\n",
       "</style>\n",
       "<table border=\"1\" class=\"dataframe\">\n",
       "  <thead>\n",
       "    <tr style=\"text-align: right;\">\n",
       "      <th></th>\n",
       "      <th>userId</th>\n",
       "      <th>movieId</th>\n",
       "      <th>rating</th>\n",
       "      <th>user</th>\n",
       "      <th>movie</th>\n",
       "    </tr>\n",
       "  </thead>\n",
       "  <tbody>\n",
       "    <tr>\n",
       "      <th>33931</th>\n",
       "      <td>232</td>\n",
       "      <td>32587</td>\n",
       "      <td>4.0</td>\n",
       "      <td>231</td>\n",
       "      <td>102</td>\n",
       "    </tr>\n",
       "    <tr>\n",
       "      <th>46960</th>\n",
       "      <td>335</td>\n",
       "      <td>899</td>\n",
       "      <td>4.5</td>\n",
       "      <td>334</td>\n",
       "      <td>194</td>\n",
       "    </tr>\n",
       "    <tr>\n",
       "      <th>104384</th>\n",
       "      <td>668</td>\n",
       "      <td>79642</td>\n",
       "      <td>2.5</td>\n",
       "      <td>667</td>\n",
       "      <td>9860</td>\n",
       "    </tr>\n",
       "    <tr>\n",
       "      <th>19952</th>\n",
       "      <td>157</td>\n",
       "      <td>2410</td>\n",
       "      <td>3.0</td>\n",
       "      <td>156</td>\n",
       "      <td>2176</td>\n",
       "    </tr>\n",
       "    <tr>\n",
       "      <th>82356</th>\n",
       "      <td>571</td>\n",
       "      <td>1073</td>\n",
       "      <td>5.0</td>\n",
       "      <td>570</td>\n",
       "      <td>134</td>\n",
       "    </tr>\n",
       "  </tbody>\n",
       "</table>\n",
       "</div>"
      ],
      "text/plain": [
       "        userId  movieId  rating  user  movie\n",
       "33931      232    32587     4.0   231    102\n",
       "46960      335      899     4.5   334    194\n",
       "104384     668    79642     2.5   667   9860\n",
       "19952      157     2410     3.0   156   2176\n",
       "82356      571     1073     5.0   570    134"
      ]
     },
     "execution_count": 43,
     "metadata": {},
     "output_type": "execute_result"
    }
   ],
   "source": [
    "ratings_data = ratings_data.sample(frac=1, random_state=42)\n",
    "ratings_data.sample(5)"
   ]
  },
  {
   "cell_type": "code",
   "execution_count": 44,
   "metadata": {},
   "outputs": [
    {
     "name": "stdout",
     "output_type": "stream",
     "text": [
      "[[ 284 1575]\n",
      " [  23 1118]\n",
      " [ 606  318]\n",
      " ...\n",
      " [ 667 2733]\n",
      " [  10   19]\n",
      " [ 127 1983]] 41032     0.555556\n",
      "1938      0.777778\n",
      "92480     0.777778\n",
      "30160     0.333333\n",
      "28079     0.333333\n",
      "            ...   \n",
      "54886     0.444444\n",
      "76820     0.777778\n",
      "103694    0.444444\n",
      "860       0.555556\n",
      "15795     0.555556\n",
      "Name: rating, Length: 105339, dtype: float64\n"
     ]
    }
   ],
   "source": [
    "x = ratings_data[['user', 'movie']].values\n",
    "y = (ratings_data['rating'] - min_rating) / (max_rating - min_rating)\n",
    "\n",
    "x_train, x_val, y_train, y_val = train_test_split(x, y, test_size=0.2, random_state=42)\n",
    "\n",
    "print(x, y)"
   ]
  },
  {
   "cell_type": "markdown",
   "metadata": {},
   "source": [
    "### 8.3 Proses Training"
   ]
  },
  {
   "cell_type": "code",
   "execution_count": 45,
   "metadata": {},
   "outputs": [],
   "source": [
    "class RecommenderNet(Model):\n",
    " \n",
    "  def __init__(self, num_users, num_movies, embedding_size, **kwargs):\n",
    "    super(RecommenderNet, self).__init__(**kwargs)\n",
    "    self.num_users = num_users\n",
    "    self.num_movies = num_movies\n",
    "    self.embedding_size = embedding_size\n",
    "\n",
    "    self.user_embedding = layers.Embedding(\n",
    "        num_users,\n",
    "        embedding_size,\n",
    "        embeddings_initializer='he_normal',\n",
    "        embeddings_regularizer=regularizers.l2(1e-6)\n",
    "    )\n",
    "\n",
    "    self.user_bias = layers.Embedding(num_users, 1)\n",
    "\n",
    "    self.movie_embedding = layers.Embedding(\n",
    "        num_movies,\n",
    "        embedding_size, \n",
    "        embeddings_initializer='he_normal',\n",
    "        embeddings_regularizer=regularizers.l2(1e-6)\n",
    "    )\n",
    "\n",
    "    self.movie_bias = layers.Embedding(num_movies, 1)\n",
    " \n",
    "  def call(self, inputs):\n",
    "    user_vector = self.user_embedding(inputs[:, 0])\n",
    "    user_bias = self.user_bias(inputs[:, 0])\n",
    "    movie_vector = self.movie_embedding(inputs[:, 1])\n",
    "    movie_bias = self.movie_bias(inputs[:, 1])\n",
    "\n",
    "    dot_user_movie = tf.tensordot(user_vector, movie_vector, 2) \n",
    "\n",
    "    x = dot_user_movie + user_bias + movie_bias\n",
    "    \n",
    "    return tf.nn.sigmoid(x)\n"
   ]
  },
  {
   "cell_type": "code",
   "execution_count": 46,
   "metadata": {},
   "outputs": [
    {
     "name": "stdout",
     "output_type": "stream",
     "text": [
      "WARNING:tensorflow:From c:\\Users\\medan\\AppData\\Local\\Programs\\Python\\Python311\\Lib\\site-packages\\keras\\src\\backend.py:873: The name tf.get_default_graph is deprecated. Please use tf.compat.v1.get_default_graph instead.\n",
      "\n"
     ]
    }
   ],
   "source": [
    "model = RecommenderNet(num_users, num_movies, 50)\n",
    " \n",
    "# model compile\n",
    "model.compile(\n",
    "    loss = tf.keras.losses.BinaryCrossentropy(),\n",
    "    optimizer = keras.optimizers.Adam(learning_rate=0.001),\n",
    "    metrics=[tf.keras.metrics.RootMeanSquaredError()]\n",
    ")"
   ]
  },
  {
   "cell_type": "code",
   "execution_count": 47,
   "metadata": {},
   "outputs": [
    {
     "name": "stdout",
     "output_type": "stream",
     "text": [
      "Epoch 1/100\n",
      "WARNING:tensorflow:From c:\\Users\\medan\\AppData\\Local\\Programs\\Python\\Python311\\Lib\\site-packages\\keras\\src\\utils\\tf_utils.py:492: The name tf.ragged.RaggedTensorValue is deprecated. Please use tf.compat.v1.ragged.RaggedTensorValue instead.\n",
      "\n",
      "    1/10534 [..............................] - ETA: 2:14:05 - loss: 0.6823 - root_mean_squared_error: 0.2618"
     ]
    },
    {
     "name": "stdout",
     "output_type": "stream",
     "text": [
      "10534/10534 [==============================] - 33s 3ms/step - loss: 0.6232 - root_mean_squared_error: 0.2215 - val_loss: 0.6086 - val_root_mean_squared_error: 0.2072\n",
      "Epoch 2/100\n",
      "10534/10534 [==============================] - 32s 3ms/step - loss: 0.6011 - root_mean_squared_error: 0.1976 - val_loss: 0.6033 - val_root_mean_squared_error: 0.2013\n",
      "Epoch 3/100\n",
      "10534/10534 [==============================] - 32s 3ms/step - loss: 0.5963 - root_mean_squared_error: 0.1920 - val_loss: 0.6018 - val_root_mean_squared_error: 0.1995\n",
      "Epoch 4/100\n",
      "10534/10534 [==============================] - 32s 3ms/step - loss: 0.5939 - root_mean_squared_error: 0.1891 - val_loss: 0.6015 - val_root_mean_squared_error: 0.1988\n",
      "Epoch 5/100\n",
      "10534/10534 [==============================] - 34s 3ms/step - loss: 0.5917 - root_mean_squared_error: 0.1865 - val_loss: 0.6011 - val_root_mean_squared_error: 0.1983\n",
      "Epoch 6/100\n",
      "10534/10534 [==============================] - 32s 3ms/step - loss: 0.5907 - root_mean_squared_error: 0.1852 - val_loss: 0.6007 - val_root_mean_squared_error: 0.1979\n",
      "Epoch 7/100\n",
      "10534/10534 [==============================] - 33s 3ms/step - loss: 0.5898 - root_mean_squared_error: 0.1842 - val_loss: 0.6004 - val_root_mean_squared_error: 0.1976\n",
      "Epoch 8/100\n",
      "10534/10534 [==============================] - 33s 3ms/step - loss: 0.5885 - root_mean_squared_error: 0.1826 - val_loss: 0.6002 - val_root_mean_squared_error: 0.1974\n",
      "Epoch 9/100\n",
      "10534/10534 [==============================] - 33s 3ms/step - loss: 0.5880 - root_mean_squared_error: 0.1819 - val_loss: 0.6003 - val_root_mean_squared_error: 0.1974\n",
      "Epoch 10/100\n",
      "10534/10534 [==============================] - 32s 3ms/step - loss: 0.5871 - root_mean_squared_error: 0.1809 - val_loss: 0.6004 - val_root_mean_squared_error: 0.1974\n",
      "Epoch 11/100\n",
      "10534/10534 [==============================] - 32s 3ms/step - loss: 0.5868 - root_mean_squared_error: 0.1804 - val_loss: 0.6006 - val_root_mean_squared_error: 0.1974\n",
      "Epoch 12/100\n",
      "10534/10534 [==============================] - 33s 3ms/step - loss: 0.5863 - root_mean_squared_error: 0.1798 - val_loss: 0.6002 - val_root_mean_squared_error: 0.1970\n",
      "Epoch 13/100\n",
      "10534/10534 [==============================] - 33s 3ms/step - loss: 0.5863 - root_mean_squared_error: 0.1799 - val_loss: 0.6012 - val_root_mean_squared_error: 0.1980\n",
      "Epoch 14/100\n",
      "10534/10534 [==============================] - 33s 3ms/step - loss: 0.5859 - root_mean_squared_error: 0.1793 - val_loss: 0.6011 - val_root_mean_squared_error: 0.1977\n",
      "Epoch 15/100\n",
      "10534/10534 [==============================] - 33s 3ms/step - loss: 0.5858 - root_mean_squared_error: 0.1792 - val_loss: 0.6016 - val_root_mean_squared_error: 0.1983\n",
      "Epoch 16/100\n",
      "10534/10534 [==============================] - 34s 3ms/step - loss: 0.5854 - root_mean_squared_error: 0.1787 - val_loss: 0.6013 - val_root_mean_squared_error: 0.1979\n",
      "Epoch 17/100\n",
      "10534/10534 [==============================] - 31s 3ms/step - loss: 0.5855 - root_mean_squared_error: 0.1788 - val_loss: 0.6015 - val_root_mean_squared_error: 0.1980\n",
      "Epoch 18/100\n",
      "10534/10534 [==============================] - 31s 3ms/step - loss: 0.5848 - root_mean_squared_error: 0.1780 - val_loss: 0.6014 - val_root_mean_squared_error: 0.1978\n",
      "Epoch 19/100\n",
      "10534/10534 [==============================] - 31s 3ms/step - loss: 0.5848 - root_mean_squared_error: 0.1779 - val_loss: 0.6017 - val_root_mean_squared_error: 0.1981\n",
      "Epoch 20/100\n",
      "10534/10534 [==============================] - 31s 3ms/step - loss: 0.5845 - root_mean_squared_error: 0.1777 - val_loss: 0.6022 - val_root_mean_squared_error: 0.1985\n",
      "Epoch 21/100\n",
      "10534/10534 [==============================] - 31s 3ms/step - loss: 0.5847 - root_mean_squared_error: 0.1778 - val_loss: 0.6019 - val_root_mean_squared_error: 0.1983\n",
      "Epoch 22/100\n",
      "10534/10534 [==============================] - 31s 3ms/step - loss: 0.5843 - root_mean_squared_error: 0.1773 - val_loss: 0.6027 - val_root_mean_squared_error: 0.1991\n",
      "Epoch 23/100\n",
      "10534/10534 [==============================] - 31s 3ms/step - loss: 0.5844 - root_mean_squared_error: 0.1774 - val_loss: 0.6027 - val_root_mean_squared_error: 0.1990\n",
      "Epoch 24/100\n",
      "10534/10534 [==============================] - 32s 3ms/step - loss: 0.5843 - root_mean_squared_error: 0.1773 - val_loss: 0.6032 - val_root_mean_squared_error: 0.1995\n",
      "Epoch 25/100\n",
      "10534/10534 [==============================] - 32s 3ms/step - loss: 0.5841 - root_mean_squared_error: 0.1770 - val_loss: 0.6032 - val_root_mean_squared_error: 0.1995\n",
      "Epoch 26/100\n",
      "10534/10534 [==============================] - 30s 3ms/step - loss: 0.5841 - root_mean_squared_error: 0.1770 - val_loss: 0.6032 - val_root_mean_squared_error: 0.1995\n",
      "Epoch 27/100\n",
      "10534/10534 [==============================] - 29s 3ms/step - loss: 0.5838 - root_mean_squared_error: 0.1768 - val_loss: 0.6029 - val_root_mean_squared_error: 0.1992\n",
      "Epoch 28/100\n",
      "10534/10534 [==============================] - 29s 3ms/step - loss: 0.5836 - root_mean_squared_error: 0.1765 - val_loss: 0.6029 - val_root_mean_squared_error: 0.1992\n",
      "Epoch 29/100\n",
      "10534/10534 [==============================] - 31s 3ms/step - loss: 0.5837 - root_mean_squared_error: 0.1766 - val_loss: 0.6033 - val_root_mean_squared_error: 0.1995\n",
      "Epoch 30/100\n",
      "10534/10534 [==============================] - 72s 7ms/step - loss: 0.5837 - root_mean_squared_error: 0.1765 - val_loss: 0.6030 - val_root_mean_squared_error: 0.1991\n",
      "Epoch 31/100\n",
      "10534/10534 [==============================] - 37s 3ms/step - loss: 0.5835 - root_mean_squared_error: 0.1763 - val_loss: 0.6037 - val_root_mean_squared_error: 0.1999\n",
      "Epoch 32/100\n",
      "10534/10534 [==============================] - 36s 3ms/step - loss: 0.5836 - root_mean_squared_error: 0.1763 - val_loss: 0.6034 - val_root_mean_squared_error: 0.1996\n",
      "Epoch 33/100\n",
      "10534/10534 [==============================] - 36s 3ms/step - loss: 0.5833 - root_mean_squared_error: 0.1759 - val_loss: 0.6035 - val_root_mean_squared_error: 0.1997\n",
      "Epoch 34/100\n",
      "10534/10534 [==============================] - 36s 3ms/step - loss: 0.5837 - root_mean_squared_error: 0.1766 - val_loss: 0.6037 - val_root_mean_squared_error: 0.1999\n",
      "Epoch 35/100\n",
      "10534/10534 [==============================] - 36s 3ms/step - loss: 0.5833 - root_mean_squared_error: 0.1761 - val_loss: 0.6036 - val_root_mean_squared_error: 0.1999\n",
      "Epoch 36/100\n",
      "10534/10534 [==============================] - 38s 4ms/step - loss: 0.5834 - root_mean_squared_error: 0.1763 - val_loss: 0.6035 - val_root_mean_squared_error: 0.1996\n",
      "Epoch 37/100\n",
      "10534/10534 [==============================] - 36s 3ms/step - loss: 0.5835 - root_mean_squared_error: 0.1764 - val_loss: 0.6044 - val_root_mean_squared_error: 0.2005\n",
      "Epoch 38/100\n",
      "10534/10534 [==============================] - 36s 3ms/step - loss: 0.5833 - root_mean_squared_error: 0.1761 - val_loss: 0.6042 - val_root_mean_squared_error: 0.2002\n",
      "Epoch 39/100\n",
      "10534/10534 [==============================] - 36s 3ms/step - loss: 0.5832 - root_mean_squared_error: 0.1761 - val_loss: 0.6044 - val_root_mean_squared_error: 0.2005\n",
      "Epoch 40/100\n",
      "10534/10534 [==============================] - 36s 3ms/step - loss: 0.5832 - root_mean_squared_error: 0.1761 - val_loss: 0.6043 - val_root_mean_squared_error: 0.2004\n",
      "Epoch 41/100\n",
      "10534/10534 [==============================] - 36s 3ms/step - loss: 0.5831 - root_mean_squared_error: 0.1758 - val_loss: 0.6045 - val_root_mean_squared_error: 0.2004\n",
      "Epoch 42/100\n",
      "10534/10534 [==============================] - 37s 4ms/step - loss: 0.5831 - root_mean_squared_error: 0.1758 - val_loss: 0.6046 - val_root_mean_squared_error: 0.2006\n",
      "Epoch 43/100\n",
      "10534/10534 [==============================] - 38s 4ms/step - loss: 0.5830 - root_mean_squared_error: 0.1758 - val_loss: 0.6046 - val_root_mean_squared_error: 0.2005\n",
      "Epoch 44/100\n",
      "10534/10534 [==============================] - 35s 3ms/step - loss: 0.5829 - root_mean_squared_error: 0.1757 - val_loss: 0.6043 - val_root_mean_squared_error: 0.2003\n",
      "Epoch 45/100\n",
      "10534/10534 [==============================] - 37s 4ms/step - loss: 0.5833 - root_mean_squared_error: 0.1761 - val_loss: 0.6043 - val_root_mean_squared_error: 0.2003\n",
      "Epoch 46/100\n",
      "10534/10534 [==============================] - 35s 3ms/step - loss: 0.5827 - root_mean_squared_error: 0.1753 - val_loss: 0.6050 - val_root_mean_squared_error: 0.2009\n",
      "Epoch 47/100\n",
      "10534/10534 [==============================] - 36s 3ms/step - loss: 0.5827 - root_mean_squared_error: 0.1755 - val_loss: 0.6050 - val_root_mean_squared_error: 0.2009\n",
      "Epoch 48/100\n",
      "10534/10534 [==============================] - 35s 3ms/step - loss: 0.5830 - root_mean_squared_error: 0.1758 - val_loss: 0.6054 - val_root_mean_squared_error: 0.2013\n",
      "Epoch 49/100\n",
      "10534/10534 [==============================] - 35s 3ms/step - loss: 0.5828 - root_mean_squared_error: 0.1756 - val_loss: 0.6048 - val_root_mean_squared_error: 0.2007\n",
      "Epoch 50/100\n",
      "10534/10534 [==============================] - 35s 3ms/step - loss: 0.5827 - root_mean_squared_error: 0.1755 - val_loss: 0.6054 - val_root_mean_squared_error: 0.2013\n",
      "Epoch 51/100\n",
      "10534/10534 [==============================] - 35s 3ms/step - loss: 0.5830 - root_mean_squared_error: 0.1757 - val_loss: 0.6052 - val_root_mean_squared_error: 0.2011\n",
      "Epoch 52/100\n",
      "10534/10534 [==============================] - 35s 3ms/step - loss: 0.5827 - root_mean_squared_error: 0.1754 - val_loss: 0.6061 - val_root_mean_squared_error: 0.2019\n",
      "Epoch 53/100\n",
      "10534/10534 [==============================] - 36s 3ms/step - loss: 0.5830 - root_mean_squared_error: 0.1759 - val_loss: 0.6059 - val_root_mean_squared_error: 0.2017\n",
      "Epoch 54/100\n",
      "10534/10534 [==============================] - 38s 4ms/step - loss: 0.5827 - root_mean_squared_error: 0.1755 - val_loss: 0.6059 - val_root_mean_squared_error: 0.2018\n",
      "Epoch 55/100\n",
      "10534/10534 [==============================] - 36s 3ms/step - loss: 0.5825 - root_mean_squared_error: 0.1752 - val_loss: 0.6058 - val_root_mean_squared_error: 0.2015\n",
      "Epoch 56/100\n",
      "10534/10534 [==============================] - 30s 3ms/step - loss: 0.5827 - root_mean_squared_error: 0.1755 - val_loss: 0.6060 - val_root_mean_squared_error: 0.2016\n",
      "Epoch 57/100\n",
      "10534/10534 [==============================] - 32s 3ms/step - loss: 0.5824 - root_mean_squared_error: 0.1752 - val_loss: 0.6062 - val_root_mean_squared_error: 0.2019\n",
      "Epoch 58/100\n",
      "10534/10534 [==============================] - 31s 3ms/step - loss: 0.5826 - root_mean_squared_error: 0.1753 - val_loss: 0.6067 - val_root_mean_squared_error: 0.2023\n",
      "Epoch 59/100\n",
      "10534/10534 [==============================] - 31s 3ms/step - loss: 0.5831 - root_mean_squared_error: 0.1759 - val_loss: 0.6062 - val_root_mean_squared_error: 0.2018\n",
      "Epoch 60/100\n",
      "10534/10534 [==============================] - 30s 3ms/step - loss: 0.5826 - root_mean_squared_error: 0.1753 - val_loss: 0.6066 - val_root_mean_squared_error: 0.2022\n",
      "Epoch 61/100\n",
      "10534/10534 [==============================] - 30s 3ms/step - loss: 0.5825 - root_mean_squared_error: 0.1753 - val_loss: 0.6063 - val_root_mean_squared_error: 0.2020\n",
      "Epoch 62/100\n",
      "10534/10534 [==============================] - 30s 3ms/step - loss: 0.5826 - root_mean_squared_error: 0.1754 - val_loss: 0.6063 - val_root_mean_squared_error: 0.2021\n",
      "Epoch 63/100\n",
      "10534/10534 [==============================] - 30s 3ms/step - loss: 0.5826 - root_mean_squared_error: 0.1754 - val_loss: 0.6065 - val_root_mean_squared_error: 0.2022\n",
      "Epoch 64/100\n",
      "10534/10534 [==============================] - 31s 3ms/step - loss: 0.5827 - root_mean_squared_error: 0.1755 - val_loss: 0.6060 - val_root_mean_squared_error: 0.2017\n",
      "Epoch 65/100\n",
      "10534/10534 [==============================] - 30s 3ms/step - loss: 0.5828 - root_mean_squared_error: 0.1756 - val_loss: 0.6062 - val_root_mean_squared_error: 0.2017\n",
      "Epoch 66/100\n",
      "10534/10534 [==============================] - 30s 3ms/step - loss: 0.5826 - root_mean_squared_error: 0.1754 - val_loss: 0.6064 - val_root_mean_squared_error: 0.2019\n",
      "Epoch 67/100\n",
      "10534/10534 [==============================] - 31s 3ms/step - loss: 0.5827 - root_mean_squared_error: 0.1755 - val_loss: 0.6067 - val_root_mean_squared_error: 0.2023\n",
      "Epoch 68/100\n",
      "10534/10534 [==============================] - 31s 3ms/step - loss: 0.5825 - root_mean_squared_error: 0.1753 - val_loss: 0.6072 - val_root_mean_squared_error: 0.2028\n",
      "Epoch 69/100\n",
      "10534/10534 [==============================] - 30s 3ms/step - loss: 0.5827 - root_mean_squared_error: 0.1756 - val_loss: 0.6064 - val_root_mean_squared_error: 0.2020\n",
      "Epoch 70/100\n",
      "10534/10534 [==============================] - 30s 3ms/step - loss: 0.5827 - root_mean_squared_error: 0.1755 - val_loss: 0.6059 - val_root_mean_squared_error: 0.2015\n",
      "Epoch 71/100\n",
      "10534/10534 [==============================] - 30s 3ms/step - loss: 0.5826 - root_mean_squared_error: 0.1754 - val_loss: 0.6068 - val_root_mean_squared_error: 0.2024\n",
      "Epoch 72/100\n",
      "10534/10534 [==============================] - 31s 3ms/step - loss: 0.5826 - root_mean_squared_error: 0.1754 - val_loss: 0.6065 - val_root_mean_squared_error: 0.2019\n",
      "Epoch 73/100\n",
      "10534/10534 [==============================] - 31s 3ms/step - loss: 0.5825 - root_mean_squared_error: 0.1754 - val_loss: 0.6071 - val_root_mean_squared_error: 0.2025\n",
      "Epoch 74/100\n",
      "10534/10534 [==============================] - 30s 3ms/step - loss: 0.5825 - root_mean_squared_error: 0.1753 - val_loss: 0.6068 - val_root_mean_squared_error: 0.2022\n",
      "Epoch 75/100\n",
      "10534/10534 [==============================] - 28s 3ms/step - loss: 0.5823 - root_mean_squared_error: 0.1751 - val_loss: 0.6074 - val_root_mean_squared_error: 0.2027\n",
      "Epoch 76/100\n",
      "10534/10534 [==============================] - 29s 3ms/step - loss: 0.5826 - root_mean_squared_error: 0.1754 - val_loss: 0.6072 - val_root_mean_squared_error: 0.2025\n",
      "Epoch 77/100\n",
      "10534/10534 [==============================] - 29s 3ms/step - loss: 0.5824 - root_mean_squared_error: 0.1751 - val_loss: 0.6072 - val_root_mean_squared_error: 0.2024\n",
      "Epoch 78/100\n",
      "10534/10534 [==============================] - 30s 3ms/step - loss: 0.5826 - root_mean_squared_error: 0.1754 - val_loss: 0.6070 - val_root_mean_squared_error: 0.2022\n",
      "Epoch 79/100\n",
      "10534/10534 [==============================] - 29s 3ms/step - loss: 0.5826 - root_mean_squared_error: 0.1754 - val_loss: 0.6068 - val_root_mean_squared_error: 0.2020\n",
      "Epoch 80/100\n",
      "10534/10534 [==============================] - 30s 3ms/step - loss: 0.5826 - root_mean_squared_error: 0.1753 - val_loss: 0.6070 - val_root_mean_squared_error: 0.2022\n",
      "Epoch 81/100\n",
      "10534/10534 [==============================] - 34s 3ms/step - loss: 0.5826 - root_mean_squared_error: 0.1753 - val_loss: 0.6071 - val_root_mean_squared_error: 0.2022\n",
      "Epoch 82/100\n",
      "10534/10534 [==============================] - 32s 3ms/step - loss: 0.5823 - root_mean_squared_error: 0.1751 - val_loss: 0.6069 - val_root_mean_squared_error: 0.2021\n",
      "Epoch 83/100\n",
      "10534/10534 [==============================] - 31s 3ms/step - loss: 0.5826 - root_mean_squared_error: 0.1755 - val_loss: 0.6069 - val_root_mean_squared_error: 0.2020\n",
      "Epoch 84/100\n",
      "10534/10534 [==============================] - 32s 3ms/step - loss: 0.5825 - root_mean_squared_error: 0.1752 - val_loss: 0.6071 - val_root_mean_squared_error: 0.2022\n",
      "Epoch 85/100\n",
      "10534/10534 [==============================] - 31s 3ms/step - loss: 0.5825 - root_mean_squared_error: 0.1753 - val_loss: 0.6069 - val_root_mean_squared_error: 0.2020\n",
      "Epoch 86/100\n",
      "10534/10534 [==============================] - 31s 3ms/step - loss: 0.5827 - root_mean_squared_error: 0.1755 - val_loss: 0.6076 - val_root_mean_squared_error: 0.2028\n",
      "Epoch 87/100\n",
      "10534/10534 [==============================] - 32s 3ms/step - loss: 0.5822 - root_mean_squared_error: 0.1751 - val_loss: 0.6078 - val_root_mean_squared_error: 0.2028\n",
      "Epoch 88/100\n",
      "10534/10534 [==============================] - 32s 3ms/step - loss: 0.5826 - root_mean_squared_error: 0.1754 - val_loss: 0.6077 - val_root_mean_squared_error: 0.2027\n",
      "Epoch 89/100\n",
      "10534/10534 [==============================] - 34s 3ms/step - loss: 0.5825 - root_mean_squared_error: 0.1752 - val_loss: 0.6078 - val_root_mean_squared_error: 0.2028\n",
      "Epoch 90/100\n",
      "10534/10534 [==============================] - 35s 3ms/step - loss: 0.5826 - root_mean_squared_error: 0.1754 - val_loss: 0.6082 - val_root_mean_squared_error: 0.2030\n",
      "Epoch 91/100\n",
      "10534/10534 [==============================] - 34s 3ms/step - loss: 0.5825 - root_mean_squared_error: 0.1753 - val_loss: 0.6080 - val_root_mean_squared_error: 0.2029\n",
      "Epoch 92/100\n",
      "10534/10534 [==============================] - 33s 3ms/step - loss: 0.5824 - root_mean_squared_error: 0.1752 - val_loss: 0.6084 - val_root_mean_squared_error: 0.2032\n",
      "Epoch 93/100\n",
      "10534/10534 [==============================] - 31s 3ms/step - loss: 0.5825 - root_mean_squared_error: 0.1754 - val_loss: 0.6081 - val_root_mean_squared_error: 0.2029\n",
      "Epoch 94/100\n",
      "10534/10534 [==============================] - 33s 3ms/step - loss: 0.5824 - root_mean_squared_error: 0.1752 - val_loss: 0.6079 - val_root_mean_squared_error: 0.2028\n",
      "Epoch 95/100\n",
      "10534/10534 [==============================] - 31s 3ms/step - loss: 0.5827 - root_mean_squared_error: 0.1755 - val_loss: 0.6077 - val_root_mean_squared_error: 0.2026\n",
      "Epoch 96/100\n",
      "10534/10534 [==============================] - 31s 3ms/step - loss: 0.5825 - root_mean_squared_error: 0.1754 - val_loss: 0.6081 - val_root_mean_squared_error: 0.2029\n",
      "Epoch 97/100\n",
      "10534/10534 [==============================] - 32s 3ms/step - loss: 0.5827 - root_mean_squared_error: 0.1755 - val_loss: 0.6082 - val_root_mean_squared_error: 0.2029\n",
      "Epoch 98/100\n",
      "10534/10534 [==============================] - 32s 3ms/step - loss: 0.5824 - root_mean_squared_error: 0.1752 - val_loss: 0.6088 - val_root_mean_squared_error: 0.2035\n",
      "Epoch 99/100\n",
      "10534/10534 [==============================] - 33s 3ms/step - loss: 0.5823 - root_mean_squared_error: 0.1750 - val_loss: 0.6087 - val_root_mean_squared_error: 0.2033\n",
      "Epoch 100/100\n",
      "10534/10534 [==============================] - 32s 3ms/step - loss: 0.5825 - root_mean_squared_error: 0.1753 - val_loss: 0.6091 - val_root_mean_squared_error: 0.2038\n"
     ]
    }
   ],
   "source": [
    "history = model.fit(\n",
    "    x = x_train,\n",
    "    y = y_train,\n",
    "    batch_size = 8,\n",
    "    epochs = 100,\n",
    "    validation_data = (x_val, y_val)\n",
    ")"
   ]
  },
  {
   "cell_type": "code",
   "execution_count": 51,
   "metadata": {},
   "outputs": [
    {
     "data": {
      "image/png": "[encoded data removed]",
      "text/plain": [
       "<Figure size 640x480 with 1 Axes>"
      ]
     },
     "metadata": {},
     "output_type": "display_data"
    }
   ],
   "source": [
    "plt.plot(history.history['root_mean_squared_error'])\n",
    "plt.plot(history.history['val_root_mean_squared_error'])\n",
    "plt.title('Model Metrics')\n",
    "plt.ylabel('Root Mean Squared Error')\n",
    "plt.xlabel('Epoch')\n",
    "plt.legend(['train', 'test'], loc='upper left')\n",
    "plt.show()"
   ]
  },
  {
   "cell_type": "markdown",
   "metadata": {},
   "source": [
    "### 8.4 Mendapatkan Rekomendasi Film"
   ]
  },
  {
   "cell_type": "code",
   "execution_count": 52,
   "metadata": {},
   "outputs": [],
   "source": [
    "movies = movies_data\n",
    " \n",
    "# Mengambil sample user\n",
    "user_id = ratings_data.userId.sample(1).iloc[0]\n",
    "movie_watched_by_user = ratings_data[ratings_data.userId == user_id]\n",
    " \n",
    "# Operator bitwise (~), bisa diketahui di sini https://docs.python.org/3/reference/expressions.html \n",
    "movie_not_watched = movies[~movies['movieId'].isin(movie_watched_by_user.movieId.values)]['movieId'] \n",
    "movie_not_watched = list(\n",
    "    set(movie_not_watched)\n",
    "    .intersection(set(movie_to_movie_encoded.keys()))\n",
    ")\n",
    " \n",
    "movie_not_watched = [[movie_to_movie_encoded.get(x)] for x in movie_not_watched]\n",
    "user_encoder = user_to_user_encoded.get(user_id)\n",
    "user_movie_array = np.hstack(\n",
    "    ([[user_encoder]] * len(movie_not_watched), movie_not_watched)\n",
    ")"
   ]
  },
  {
   "cell_type": "markdown",
   "metadata": {},
   "source": [
    "### 8.5 Hasil Rekomendasi film untuk User"
   ]
  },
  {
   "cell_type": "code",
   "execution_count": 53,
   "metadata": {},
   "outputs": [
    {
     "name": "stdout",
     "output_type": "stream",
     "text": [
      "314/314 [==============================] - 0s 638us/step\n",
      "Showing Recommendations for User: 331\n",
      "===========================\n",
      "Movie with High Ratings from User\n",
      "--------------------------------\n",
      "Star Wars: Episode IV - A New Hope (1977) : Action|Adventure|Sci-Fi\n",
      "Parent Trap, The (1961) : Children|Comedy|Romance\n",
      "Pollyanna (1960) : Children|Comedy|Drama\n",
      "Parent Trap, The (1998) : Children|Comedy|Romance\n",
      "Harry Potter and the Prisoner of Azkaban (2004) : Adventure|Fantasy|IMAX\n",
      "--------------------------------\n",
      "Top 10 Movie Recommendations\n",
      "--------------------------------\n",
      "Schizopolis (1996) : Comedy\n",
      "Fireworks (Hana-bi) (1997) : Crime|Drama\n",
      "Wings (1927) : Action|Drama|Romance|War\n",
      "Bandit Queen (1994) : Drama\n",
      "Antwone Fisher (2002) : Drama\n",
      "Interstate 60 (2002) : Adventure|Comedy|Drama|Fantasy|Mystery|Sci-Fi|Thriller\n",
      "Nobody Knows (Dare mo shiranai) (2004) : Drama\n",
      "Gentlemen of Fortune (Dzhentlmeny udachi) (1972) : Comedy|Crime|Drama|Mystery\n",
      "Resident Evil: Retribution (2012) : Action|Horror|Sci-Fi|IMAX\n",
      "Louis C.K.: Live at The Comedy Store (2015) : Comedy\n"
     ]
    }
   ],
   "source": [
    "ratings = model.predict(user_movie_array).flatten()\n",
    "\n",
    "top_ratings_indices = ratings.argsort()[-10:][::-1]\n",
    "recommended_movie_ids = [\n",
    "    movie_encoded_to_movie.get(movie_not_watched[x][0]) for x in top_ratings_indices\n",
    "]\n",
    "# Showing Recommendations for Users\n",
    "print('Showing Recommendations for User: {}'.format(user_id))\n",
    "print('===' * 9)\n",
    "\n",
    "# Movie with High Ratings from User\n",
    "print('Movie with High Ratings from User')\n",
    "print('----' * 8)\n",
    "\n",
    "top_movie_user = (\n",
    "    movie_watched_by_user.sort_values(\n",
    "        by='rating',\n",
    "        ascending=False\n",
    "    )\n",
    "    .head(5)\n",
    "    .movieId.values\n",
    ")\n",
    "\n",
    "movie_df_rows_user = movies[movies['movieId'].isin(top_movie_user)]\n",
    "for row in movie_df_rows_user.itertuples():\n",
    "    print(row.title, ':', row.genres)\n",
    "\n",
    "print('----' * 8)\n",
    "\n",
    "# Top 10 Movie Recommendation\n",
    "print('Top 10 Movie Recommendations')\n",
    "print('----' * 8)\n",
    "\n",
    "recommended_movie = movies[movies['movieId'].isin(recommended_movie_ids)]\n",
    "for row in recommended_movie.itertuples():\n",
    "    print(row.title, ':', row.genres)\n"
   ]
  }
 ],
 "metadata": {
  "kernelspec": {
   "display_name": "Python 3",
   "language": "python",
   "name": "python3"
  },
  "language_info": {
   "codemirror_mode": {
    "name": "ipython",
    "version": 3
   },
   "file_extension": ".py",
   "mimetype": "text/x-python",
   "name": "python",
   "nbconvert_exporter": "python",
   "pygments_lexer": "ipython3",
   "version": "3.11.5"
  }
 },
 "nbformat": 4,
 "nbformat_minor": 2
}
